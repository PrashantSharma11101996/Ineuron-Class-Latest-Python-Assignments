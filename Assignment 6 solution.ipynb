{
 "cells": [
  {
   "attachments": {},
   "cell_type": "markdown",
   "metadata": {},
   "source": [
    "**Assignment-06**\n",
    "(20 May 2023)/\n",
    "Python Basic - 1"
   ]
  },
  {
   "attachments": {},
   "cell_type": "markdown",
   "metadata": {},
   "source": [
    "Q.1. What are keywords in python? Using the keyword library, print all the python keywords."
   ]
  },
  {
   "attachments": {},
   "cell_type": "markdown",
   "metadata": {},
   "source": [
    "Ans1.In Python, keywords are reserved words that have special meanings and are used to define the syntax and structure of the language. These keywords cannot be used as variable names or any other identifiers in your program.\n",
    "\n",
    "To print all the Python keywords, you can use the keyword library in Python. Here's an example code that demonstrates how to do this:"
   ]
  },
  {
   "cell_type": "code",
   "execution_count": 1,
   "metadata": {},
   "outputs": [
    {
     "name": "stdout",
     "output_type": "stream",
     "text": [
      "False\n",
      "None\n",
      "True\n",
      "__peg_parser__\n",
      "and\n",
      "as\n",
      "assert\n",
      "async\n",
      "await\n",
      "break\n",
      "class\n",
      "continue\n",
      "def\n",
      "del\n",
      "elif\n",
      "else\n",
      "except\n",
      "finally\n",
      "for\n",
      "from\n",
      "global\n",
      "if\n",
      "import\n",
      "in\n",
      "is\n",
      "lambda\n",
      "nonlocal\n",
      "not\n",
      "or\n",
      "pass\n",
      "raise\n",
      "return\n",
      "try\n",
      "while\n",
      "with\n",
      "yield\n"
     ]
    }
   ],
   "source": [
    "import keyword\n",
    "\n",
    "# Get all the Python keywords\n",
    "all_keywords = keyword.kwlist\n",
    "\n",
    "# Print each keyword\n",
    "for keyword in all_keywords:\n",
    "    print(keyword)"
   ]
  },
  {
   "attachments": {},
   "cell_type": "markdown",
   "metadata": {},
   "source": [
    "Q.2. What are the rules to create variables in python?"
   ]
  },
  {
   "attachments": {},
   "cell_type": "markdown",
   "metadata": {},
   "source": [
    "Ans2.In Python, variables are created and assigned values using a simple syntax. Here are the rules for creating variables in Python:\n",
    "\n",
    "1.Variable names must start with a letter (a-z, A-Z) or an underscore (_). They cannot start with a number.\n",
    "For example:"
   ]
  },
  {
   "cell_type": "code",
   "execution_count": 1,
   "metadata": {},
   "outputs": [
    {
     "ename": "SyntaxError",
     "evalue": "invalid syntax (608242558.py, line 3)",
     "output_type": "error",
     "traceback": [
      "\u001b[1;36m  Cell \u001b[1;32mIn[1], line 3\u001b[1;36m\u001b[0m\n\u001b[1;33m    2count = 10     # Invalid variable name (starts with a number)\u001b[0m\n\u001b[1;37m     ^\u001b[0m\n\u001b[1;31mSyntaxError\u001b[0m\u001b[1;31m:\u001b[0m invalid syntax\n"
     ]
    }
   ],
   "source": [
    "name = \"John\"   # Valid variable name\n",
    "_age = 25       # Valid variable name\n",
    "2count = 10     # Invalid variable name (starts with a number)"
   ]
  },
  {
   "attachments": {},
   "cell_type": "markdown",
   "metadata": {},
   "source": [
    "2.Variable names can contain letters, numbers, and underscores. They are case-sensitive, meaning uppercase and lowercase letters are considered different.\n",
    "For example:"
   ]
  },
  {
   "cell_type": "code",
   "execution_count": 3,
   "metadata": {},
   "outputs": [],
   "source": [
    "age = 25        # Valid variable name\n",
    "num_students = 10   # Valid variable name\n",
    "Name = \"Alex\"   # Valid variable name (different from 'name')"
   ]
  },
  {
   "attachments": {},
   "cell_type": "markdown",
   "metadata": {},
   "source": [
    "3.Python keywords cannot be used as variable names because they have special meanings in the language. Some examples of keywords are if, for, while, def, class, etc.\n",
    "For example:"
   ]
  },
  {
   "cell_type": "code",
   "execution_count": 4,
   "metadata": {},
   "outputs": [
    {
     "ename": "SyntaxError",
     "evalue": "invalid syntax (2962683879.py, line 2)",
     "output_type": "error",
     "traceback": [
      "\u001b[1;36m  Cell \u001b[1;32mIn[4], line 2\u001b[1;36m\u001b[0m\n\u001b[1;33m    if = 10\u001b[0m\n\u001b[1;37m       ^\u001b[0m\n\u001b[1;31mSyntaxError\u001b[0m\u001b[1;31m:\u001b[0m invalid syntax\n"
     ]
    }
   ],
   "source": [
    "# Attempting to use a Python keyword as a variable name\n",
    "if = 10\n",
    "for = 5\n",
    "while = 3\n",
    "\n",
    "# The above code will result in a SyntaxError because the keywords if, for, and while\n",
    "# cannot be used as variable names."
   ]
  },
  {
   "attachments": {},
   "cell_type": "markdown",
   "metadata": {},
   "source": [
    "4.Variables should have descriptive and meaningful names to enhance code readability. It's recommended to use lowercase letters for variable names and underscores to separate words (snake_case).\n",
    "\n",
    "Example: total_count, first_name, student_age\n",
    "\n",
    "It's generally good practice to follow the naming conventions and style guidelines outlined in PEP 8 (Python Enhancement Proposal 8), which recommends using lowercase letters with underscores for variable names.\n",
    "\n",
    "By following these rules, you can create meaningful and valid variable names in Python.\n",
    "\n",
    "\n",
    "\n",
    "\n"
   ]
  },
  {
   "attachments": {},
   "cell_type": "markdown",
   "metadata": {},
   "source": [
    "Q.3. What are the standards and conventions followed for the nomenclature of variables in\n",
    "python to improve code readability and maintainability?"
   ]
  },
  {
   "attachments": {},
   "cell_type": "markdown",
   "metadata": {},
   "source": [
    "Ans3.In Python, there are several standards and conventions followed for variable naming to improve code readability and maintainability. These conventions are outlined in PEP 8 (Python Enhancement Proposal 8), which is the official style guide for Python code. Here are some key guidelines:\n",
    "\n",
    "1.Use descriptive and meaningful names: Variable names should be descriptive and reflect the purpose or meaning of the data they hold. This improves code readability and helps other developers understand the code.\n",
    "\n",
    "2.Use lowercase letters: Variable names are generally written in all lowercase letters. This helps distinguish them from class names, which are typically written in CamelCase.\n",
    "\n",
    "3.Separate words with underscores (snake_case): When a variable name consists of multiple words, it's recommended to separate them using underscores. For example, total_count, student_name, or max_value. This style is known as snake_case.\n",
    "\n",
    "4.Avoid single-character names (unless they have a specific purpose): Single-letter variable names like x, y, or i can make the code less readable. Instead, use meaningful names that describe the purpose of the variable.\n",
    "\n",
    "5.Be consistent: Maintain consistency in naming conventions throughout your codebase. Use the same naming style for variables across your project to ensure uniformity.\n",
    "\n",
    "6.Avoid using reserved words: Do not use Python keywords as variable names since they have special meanings in the language. Examples of keywords include if, for, while, def, class, etc.\n",
    "\n",
    "Here's an example that demonstrates the above conventions:\n",
    "\n"
   ]
  },
  {
   "cell_type": "code",
   "execution_count": null,
   "metadata": {},
   "outputs": [],
   "source": [
    "# Good variable naming examples\n",
    "total_count = 10\n",
    "student_name = \"John Doe\"\n",
    "max_value = 100\n",
    "\n",
    "# Avoid using single-letter variable names\n",
    "# Instead, use more descriptive names\n",
    "result = calculate_result()"
   ]
  },
  {
   "attachments": {},
   "cell_type": "markdown",
   "metadata": {},
   "source": [
    "By following these standards and conventions, your code will be more readable, maintainable, and easier to understand for other developers."
   ]
  },
  {
   "attachments": {},
   "cell_type": "markdown",
   "metadata": {},
   "source": [
    "Q.4. What will happen if a keyword is used as a variable name?"
   ]
  },
  {
   "attachments": {},
   "cell_type": "markdown",
   "metadata": {},
   "source": [
    "Ans4.If you attempt to use a keyword as a variable name in Python, you will encounter a SyntaxError. Python keywords are reserved words that have special meanings and purposes in the language. They cannot be used as identifiers or variable names.\n",
    "\n",
    "For example, let's say you try to use the keyword if as a variable name:"
   ]
  },
  {
   "cell_type": "code",
   "execution_count": 6,
   "metadata": {},
   "outputs": [
    {
     "ename": "SyntaxError",
     "evalue": "invalid syntax (182722112.py, line 1)",
     "output_type": "error",
     "traceback": [
      "\u001b[1;36m  Cell \u001b[1;32mIn[6], line 1\u001b[1;36m\u001b[0m\n\u001b[1;33m    if = 10\u001b[0m\n\u001b[1;37m       ^\u001b[0m\n\u001b[1;31mSyntaxError\u001b[0m\u001b[1;31m:\u001b[0m invalid syntax\n"
     ]
    }
   ],
   "source": [
    "if = 10"
   ]
  },
  {
   "attachments": {},
   "cell_type": "markdown",
   "metadata": {},
   "source": [
    "Python interprets the use of if as a variable name as a syntax error because it expects the if keyword to be used in an if statement for conditional branching, not as a variable.\n",
    "\n",
    "To avoid this error, it's important to choose variable names that are not Python keywords and follow the rules and conventions for variable naming in Python.\n",
    "\n",
    "\n",
    "\n",
    "\n",
    "\n"
   ]
  },
  {
   "attachments": {},
   "cell_type": "markdown",
   "metadata": {},
   "source": [
    "Q.5. For what purpose def keyword is used?"
   ]
  },
  {
   "attachments": {},
   "cell_type": "markdown",
   "metadata": {},
   "source": [
    "Ans5.The def keyword in Python is used to define a function. It is one of the fundamental keywords in the language and plays a crucial role in creating reusable and modular code.\n",
    "\n",
    "When you use the def keyword followed by a function name, you are defining a new function in Python. The function definition typically includes a block of code that performs a specific task or set of operations. Here's the basic syntax of a function definition:"
   ]
  },
  {
   "cell_type": "code",
   "execution_count": null,
   "metadata": {},
   "outputs": [],
   "source": [
    "def function_name(parameters):\n",
    "    # Function body (code block)\n",
    "    # Perform desired operations\n",
    "    # Return a value if necessary"
   ]
  },
  {
   "attachments": {},
   "cell_type": "markdown",
   "metadata": {},
   "source": [
    "Let's break down the purpose of the def keyword and its role in creating functions:\n",
    "\n",
    "1.Function Definition: The def keyword marks the beginning of a function definition. It tells Python that you are creating a new function and provides the function name that can be used to call and execute the function later.\n",
    "\n",
    "2.Modular Code: Functions allow you to encapsulate a specific set of operations or functionality into a single unit. By defining functions, you can modularize your code, making it easier to read, understand, and maintain.\n",
    "\n",
    "3.Reusability: Functions can be called and executed multiple times within a program. Once defined, a function can be reused at different points in your code or even in other programs. This promotes code reuse, reducing redundancy and improving efficiency.\n",
    "\n",
    "4.Code Organization: Functions enable you to break down complex tasks into smaller, more manageable pieces. By dividing your code into functions, you can organize and structure your program in a logical and systematic manner.\n",
    "\n",
    "5.Abstraction: Functions provide a level of abstraction, allowing you to focus on the high-level logic and functionality of your program without getting lost in the implementation details. This abstraction promotes code readability and maintainability.\n",
    "\n",
    "Here's a simple example that demonstrates the use of the def keyword to define a function:"
   ]
  },
  {
   "cell_type": "code",
   "execution_count": 9,
   "metadata": {},
   "outputs": [
    {
     "name": "stdout",
     "output_type": "stream",
     "text": [
      "Hello, Alice!\n",
      "Hello, Bob!\n"
     ]
    }
   ],
   "source": [
    "def greet(name):\n",
    "    # Function to greet the provided name\n",
    "    print(\"Hello, \" + name + \"!\")\n",
    "\n",
    "# Calling the greet() function\n",
    "greet(\"Alice\")\n",
    "greet(\"Bob\")"
   ]
  },
  {
   "attachments": {},
   "cell_type": "markdown",
   "metadata": {},
   "source": [
    "In the above code, the def keyword is used to define the greet() function, which takes a name parameter and prints a greeting message. The function can be called multiple times with different names to produce the desired output.\n",
    "\n",
    "In summary, the def keyword in Python serves the purpose of defining functions, allowing you to create reusable, modular, and organized code."
   ]
  },
  {
   "attachments": {},
   "cell_type": "markdown",
   "metadata": {},
   "source": [
    "Q.6. What is the operation of this special character ‘\\’?"
   ]
  },
  {
   "attachments": {},
   "cell_type": "markdown",
   "metadata": {},
   "source": [
    "Ans6.In Python, the backslash character (\\) is used as an escape character. It has several special meanings and is used to represent certain characters or sequences in strings and other contexts. Here are some common uses of the backslash (\\) in Python:\n",
    "\n",
    "Escape Sequences: The backslash is used to escape special characters within a string. When a backslash is placed before a character, it changes the character's meaning. For example:\n",
    "\n",
    "\\' represents a single quote (')\n",
    "\\\" represents a double quote (\")\n",
    "\\\\ represents a literal backslash ()\n",
    "\\n represents a newline character\n",
    "\\t represents a tab character\n",
    "Raw Strings: The backslash can be used to create raw strings by prefixing a string literal with r. In a raw string, backslashes are treated as literal characters and not as escape characters. This is often useful when dealing with regular expressions, file paths, or strings that contain backslashes.\n",
    "\n",
    "Example: path = r'C:\\Users\\username\\Documents'\n",
    "Line Continuation: The backslash can be used to continue a single logical line of code across multiple physical lines. This is helpful for improving code readability when a line of code becomes too long.\n",
    "\n",
    "Example: result = 10 + 20 + 30 + \\ 40 + 50\n",
    "Unicode Escapes: The backslash can be used to represent Unicode characters by using the \\uXXXX or \\UXXXXXXXX escape sequences, where XXXX represents a four-digit hexadecimal value.\n",
    "\n",
    "Example: print('\\u03A3') prints the Greek capital letter sigma (Σ)\n",
    "It's important to note that the backslash itself can be escaped by using a double backslash (\\\\), which results in a literal backslash.\n",
    "\n",
    "Here's an example that demonstrates some of the uses of the backslash in Python:"
   ]
  },
  {
   "cell_type": "code",
   "execution_count": 10,
   "metadata": {},
   "outputs": [
    {
     "name": "stdout",
     "output_type": "stream",
     "text": [
      "This is a single quote: '\n",
      "This is a double quote: \"\n",
      "This is a backslash: \\\n",
      "This is a newline:\n",
      "Hello!\n",
      "This is a tab:\tWorld!\n",
      "C:\\Users\\username\\Documents\n",
      "Unicode character: Σ\n"
     ]
    }
   ],
   "source": [
    "print(\"This is a single quote: \\'\")\n",
    "print(\"This is a double quote: \\\"\")\n",
    "print(\"This is a backslash: \\\\\")\n",
    "print(\"This is a newline:\\nHello!\")\n",
    "print(\"This is a tab:\\tWorld!\")\n",
    "print(r'C:\\Users\\username\\Documents')\n",
    "print(\"Unicode character:\", '\\u03A3')"
   ]
  },
  {
   "attachments": {},
   "cell_type": "markdown",
   "metadata": {},
   "source": [
    "When you run the above code, you'll see the respective output for each use of the backslash character.\n",
    "\n",
    "In summary, the backslash (\\) in Python is used as an escape character for representing special characters, creating raw strings, continuing lines, and representing Unicode characters."
   ]
  },
  {
   "attachments": {},
   "cell_type": "markdown",
   "metadata": {},
   "source": [
    "Q.7. Give an example of the following conditions:\n",
    "(i) Homogeneous list\n",
    "(ii) Heterogeneous set\n",
    "(iii) Homogeneous tuple"
   ]
  },
  {
   "attachments": {},
   "cell_type": "markdown",
   "metadata": {},
   "source": [
    "Ans7.Here are examples of the three conditions you mentioned:\n",
    "\n",
    "(i) Homogeneous list:\n",
    "A homogeneous list is a list where all elements have the same data type. Here's an example of a homogeneous list of integers:"
   ]
  },
  {
   "cell_type": "code",
   "execution_count": 11,
   "metadata": {},
   "outputs": [],
   "source": [
    "numbers = [1, 2, 3, 4, 5]"
   ]
  },
  {
   "attachments": {},
   "cell_type": "markdown",
   "metadata": {},
   "source": [
    "In this example, all elements in the numbers list are integers, making it a homogeneous list.\n",
    "\n",
    "(ii) Heterogeneous set:\n",
    "A heterogeneous set is a set where the elements can have different data types. Here's an example of a heterogeneous set:"
   ]
  },
  {
   "cell_type": "code",
   "execution_count": 12,
   "metadata": {},
   "outputs": [],
   "source": [
    "my_set = {1, \"hello\", 3.14, True}"
   ]
  },
  {
   "attachments": {},
   "cell_type": "markdown",
   "metadata": {},
   "source": [
    "In this example, the set my_set contains elements of different types, including an integer (1), a string (\"hello\"), a float (3.14), and a boolean (True).\n",
    "\n",
    "(iii) Homogeneous tuple:\n",
    "A homogeneous tuple is a tuple where all elements have the same data type. Here's an example of a homogeneous tuple of strings:"
   ]
  },
  {
   "cell_type": "code",
   "execution_count": 13,
   "metadata": {},
   "outputs": [],
   "source": [
    "fruits = (\"apple\", \"banana\", \"cherry\", \"date\")"
   ]
  },
  {
   "attachments": {},
   "cell_type": "markdown",
   "metadata": {},
   "source": [
    "In this example, all elements in the fruits tuple are strings, making it a homogeneous tuple.\n",
    "\n",
    "It's important to note that Python allows for flexibility in terms of data types within containers like lists, sets, and tuples. While the examples provided above demonstrate homogeneous and heterogeneous scenarios, Python doesn't enforce strict data type constraints on these container types."
   ]
  },
  {
   "attachments": {},
   "cell_type": "markdown",
   "metadata": {},
   "source": [
    "Q.8. Explain the mutable and immutable data types with proper explanation & examples."
   ]
  },
  {
   "attachments": {},
   "cell_type": "markdown",
   "metadata": {},
   "source": [
    "Ans8.In Python, data types are classified as either mutable or immutable based on whether their values can be changed after they are created. Understanding the concept of mutable and immutable data types is essential as it affects how variables behave and how data is stored and manipulated in memory.\n",
    "\n",
    "Mutable Data Types:\n",
    "Mutable data types are those whose values can be modified after they are created.\n",
    "When a variable of a mutable data type is modified, the object's contents can change without changing its memory address.\n",
    "Examples of mutable data types in Python include lists, sets, and dictionaries.\n",
    "Here's an example that demonstrates the mutability of a list:"
   ]
  },
  {
   "cell_type": "code",
   "execution_count": 14,
   "metadata": {},
   "outputs": [
    {
     "name": "stdout",
     "output_type": "stream",
     "text": [
      "[1, 2, 3]\n",
      "[1, 2, 3, 4]\n",
      "[0, 2, 3, 4]\n"
     ]
    }
   ],
   "source": [
    "my_list = [1, 2, 3]\n",
    "print(my_list)  # Output: [1, 2, 3]\n",
    "\n",
    "my_list.append(4)\n",
    "print(my_list)  # Output: [1, 2, 3, 4]\n",
    "\n",
    "my_list[0] = 0\n",
    "print(my_list)  # Output: [0, 2, 3, 4]"
   ]
  },
  {
   "attachments": {},
   "cell_type": "markdown",
   "metadata": {},
   "source": [
    "In the example above, my_list is a mutable list. We can modify its contents by appending elements (my_list.append(4)) or by updating elements at specific indices (my_list[0] = 0). The original list is changed in-place without creating a new list object.\n",
    "\n",
    "Immutable Data Types:\n",
    "Immutable data types are those whose values cannot be modified after they are created.\n",
    "When a variable of an immutable data type is modified, a new object is created in memory with the modified value, and the variable points to the new memory location.\n",
    "Examples of immutable data types in Python include integers, floats, strings, and tuples.\n",
    "Here's an example that demonstrates the immutability of a string:"
   ]
  },
  {
   "cell_type": "code",
   "execution_count": 15,
   "metadata": {},
   "outputs": [
    {
     "name": "stdout",
     "output_type": "stream",
     "text": [
      "Hello\n",
      "Hello World\n",
      "Hello\n"
     ]
    }
   ],
   "source": [
    "my_string = \"Hello\"\n",
    "print(my_string)  # Output: Hello\n",
    "\n",
    "new_string = my_string + \" World\"\n",
    "print(new_string)  # Output: Hello World\n",
    "\n",
    "print(my_string)  # Output: Hello"
   ]
  },
  {
   "attachments": {},
   "cell_type": "markdown",
   "metadata": {},
   "source": [
    "In the example above, my_string is an immutable string. When we concatenate the string with \" World\" (my_string + \" World\"), a new string object is created in memory, and new_string points to this new object. The original string, my_string, remains unchanged.\n",
    "\n",
    "Immutable data types ensure data integrity, provide consistency, and allow for easier debugging, as you can rely on the values not being modified unexpectedly. Mutable data types, on the other hand, allow for efficient in-place modifications but require careful handling to ensure consistency and avoid unintended side effects.\n",
    "\n",
    "It's worth noting that although some data types in Python are mutable or immutable by default, you can sometimes achieve immutability by using specific methods or techniques. For example, you can create a tuple with mutable elements, resulting in a technically mutable object, but the tuple itself remains immutable."
   ]
  },
  {
   "attachments": {},
   "cell_type": "markdown",
   "metadata": {},
   "source": [
    "Q.9. Write a code to create the given structure using only for loop.\n",
    "*\n",
    "***\n",
    "*****\n",
    "*******\n",
    "*********"
   ]
  },
  {
   "attachments": {},
   "cell_type": "markdown",
   "metadata": {},
   "source": [
    "Ans9.Sure! Here's a code snippet that creates the given structure using only a for loop in Python:"
   ]
  },
  {
   "cell_type": "code",
   "execution_count": 8,
   "metadata": {},
   "outputs": [
    {
     "name": "stdout",
     "output_type": "stream",
     "text": [
      "*\n",
      "***\n",
      "*****\n",
      "*******\n",
      "*********\n"
     ]
    }
   ],
   "source": [
    "rows = 5\n",
    "\n",
    "for i in range(1, rows + 1):\n",
    "    for j in range(1, (2 * i)):\n",
    "        print(\"*\", end=\"\")\n",
    "    print()"
   ]
  },
  {
   "attachments": {},
   "cell_type": "markdown",
   "metadata": {},
   "source": [
    "In the code above, we use two nested for loops. The outer loop iterates over the range from 1 to the number of rows (rows). The inner loop iterates over the range from 1 to (2 * i) on each iteration of the outer loop, where i represents the current row number.\n",
    "\n",
    "Inside the inner loop, we print an asterisk (*) without a newline character by using the end=\"\" argument. This causes the asterisks to be printed side by side. After each inner loop completes, we print a newline character using print() to move to the next line and create the pyramid pattern."
   ]
  },
  {
   "attachments": {},
   "cell_type": "markdown",
   "metadata": {},
   "source": [
    "The number of rows is controlled by the rows variable. You can adjust the value of rows to change the size of the pyramid pattern."
   ]
  },
  {
   "attachments": {},
   "cell_type": "markdown",
   "metadata": {},
   "source": [
    "Q.10. Write a code to create the given structure using while loop.\n",
    "|||||||||\n",
    "|||||||\n",
    "|||||\n",
    "|||\n",
    "|"
   ]
  },
  {
   "attachments": {},
   "cell_type": "markdown",
   "metadata": {},
   "source": [
    "Ans10.Certainly! Here's a code snippet that creates the given structure using a while loop in Python:"
   ]
  },
  {
   "cell_type": "code",
   "execution_count": 7,
   "metadata": {},
   "outputs": [
    {
     "name": "stdout",
     "output_type": "stream",
     "text": [
      "|||||\n",
      "||||\n",
      "|||\n",
      "||\n",
      "|\n"
     ]
    }
   ],
   "source": [
    "rows = 5\n",
    "row_count = rows\n",
    "\n",
    "while row_count >= 1:\n",
    "    col_count = row_count\n",
    "    while col_count >= 1:\n",
    "        print(\"|\", end=\"\")\n",
    "        col_count -= 1\n",
    "    print()\n",
    "    row_count -= 1"
   ]
  },
  {
   "attachments": {},
   "cell_type": "markdown",
   "metadata": {},
   "source": [
    "In the code above, we use two nested while loops. The outer loop, controlled by the row_count variable, starts from the initial number of rows (rows) and decrements by 1 in each iteration until it reaches 1.\n",
    "\n",
    "The inner loop, controlled by the col_count variable, starts from the current row_count value and decrements by 1 in each iteration until it reaches 1. This loop is responsible for printing the vertical bars (|) on each row.\n",
    "\n",
    "Inside the inner loop, we print a vertical bar (|) without a newline character by using the end=\"\" argument. This causes the vertical bars to be printed side by side. After each inner loop completes, we print a newline character using print() to move to the next line and create the given structure."
   ]
  },
  {
   "attachments": {},
   "cell_type": "markdown",
   "metadata": {},
   "source": [
    "The number of rows is controlled by the rows variable. You can adjust the value of rows to change the size of the structure."
   ]
  }
 ],
 "metadata": {
  "kernelspec": {
   "display_name": "Python 3",
   "language": "python",
   "name": "python3"
  },
  "language_info": {
   "codemirror_mode": {
    "name": "ipython",
    "version": 3
   },
   "file_extension": ".py",
   "mimetype": "text/x-python",
   "name": "python",
   "nbconvert_exporter": "python",
   "pygments_lexer": "ipython3",
   "version": "3.9.13"
  },
  "orig_nbformat": 4
 },
 "nbformat": 4,
 "nbformat_minor": 2
}
