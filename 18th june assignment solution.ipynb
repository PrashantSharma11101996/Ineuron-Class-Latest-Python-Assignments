{
 "cells": [
  {
   "attachments": {},
   "cell_type": "markdown",
   "metadata": {},
   "source": [
    "18th june Assignment solution"
   ]
  },
  {
   "attachments": {},
   "cell_type": "markdown",
   "metadata": {},
   "source": [
    "1. What is the role of the 'else' block in a try-except statement? Provide an example\n",
    "scenario where it would be useful."
   ]
  },
  {
   "attachments": {},
   "cell_type": "markdown",
   "metadata": {},
   "source": [
    "Ans1. The 'else' block in a try-except statement is optional and is executed only if no exception is raised within the corresponding 'try' block. Its purpose is to specify a block of code that should run when the 'try' block executes successfully without any exceptions.\n",
    "\n",
    "Here's an example scenario where the 'else' block can be useful:"
   ]
  },
  {
   "cell_type": "code",
   "execution_count": 6,
   "metadata": {},
   "outputs": [
    {
     "name": "stdout",
     "output_type": "stream",
     "text": [
      "The result of the division is: 6.0\n"
     ]
    }
   ],
   "source": [
    "try:\n",
    "    num1 = int(input(\"Enter a numerator: \"))\n",
    "    num2 = int(input(\"Enter a denominator: \"))\n",
    "    result = num1 / num2\n",
    "except ValueError:\n",
    "    print(\"Invalid input. Please enter integers.\")\n",
    "except ZeroDivisionError:\n",
    "    print(\"Error: Division by zero is not allowed.\")\n",
    "else:\n",
    "    print(\"The result of the division is:\", result)"
   ]
  },
  {
   "attachments": {},
   "cell_type": "markdown",
   "metadata": {},
   "source": [
    "In this example, the 'try' block attempts to perform a division operation between two numbers entered by the user. If the user enters non-integer values, a ValueError exception will be raised and caught by the first except block. If the user enters zero as the denominator, a ZeroDivisionError exception will be caught by the second except block. However, if the user enters valid integer values and no exceptions occur, the code within the 'else' block will be executed, printing the result of the division. This provides a way to differentiate between handling exceptions and executing code when no exceptions are encountered."
   ]
  },
  {
   "attachments": {},
   "cell_type": "markdown",
   "metadata": {},
   "source": [
    "2. Can a try-except block be nested inside another try-except block? Explain with an\n",
    "example.\n"
   ]
  },
  {
   "attachments": {},
   "cell_type": "markdown",
   "metadata": {},
   "source": [
    "Ans2.Yes, a try-except block can be nested inside another try-except block. This is known as nested exception handling. It allows you to handle different types of exceptions at different levels of your code, providing more granular error handling.\n",
    "\n",
    "Here's an example to illustrate the concept:"
   ]
  },
  {
   "cell_type": "code",
   "execution_count": 7,
   "metadata": {},
   "outputs": [
    {
     "name": "stdout",
     "output_type": "stream",
     "text": [
      "Please enter valid integer values for numerator and denominator.\n"
     ]
    }
   ],
   "source": [
    "try:\n",
    "    # Outer try-except block\n",
    "    try:\n",
    "        # Inner try-except block\n",
    "        numerator = int(input(\"Enter the numerator: \")) \n",
    "        denominator = int(input(\"Enter the denominator: \"))\n",
    "        result = numerator / denominator\n",
    "        print(\"Result:\", result)\n",
    "    except ValueError:\n",
    "        print(\"Please enter valid integer values for numerator and denominator.\")\n",
    "    except ZeroDivisionError:\n",
    "        print(\"Cannot divide by zero.\")\n",
    "    else:\n",
    "        print(\"Division operation completed successfully.\")\n",
    "except Exception as e:\n",
    "    print(\"An error occurred:\", str(e))"
   ]
  },
  {
   "attachments": {},
   "cell_type": "markdown",
   "metadata": {},
   "source": [
    "In this example, there are two levels of exception handling. The outer try-except block catches any exception that occurs within the inner try-except block. If an exception occurs within the inner block, the corresponding except block is executed. If no exception occurs, the else block within the inner block is executed. If an exception occurs outside the inner block (e.g., during the input process), the outer except block will handle it.\n",
    "\n",
    "By nesting try-except blocks, you can handle specific exceptions at different levels of your code and provide appropriate error messages or take specific actions based on the type of exception encountered."
   ]
  },
  {
   "attachments": {},
   "cell_type": "markdown",
   "metadata": {},
   "source": [
    "3. How can you create a custom exception class in Python? Provide an example that\n",
    "demonstrates its usage."
   ]
  },
  {
   "attachments": {},
   "cell_type": "markdown",
   "metadata": {},
   "source": [
    "Ans3.In Python, you can create a custom exception class by creating a new class that inherits from the built-in Exception class or any of its subclasses. Here's an example of how you can create a custom exception class:"
   ]
  },
  {
   "cell_type": "code",
   "execution_count": 8,
   "metadata": {},
   "outputs": [],
   "source": [
    "class CustomException(Exception):\n",
    "    def __init__(self, message):\n",
    "        self.message = message\n",
    "        super().__init__(self.message)"
   ]
  },
  {
   "attachments": {},
   "cell_type": "markdown",
   "metadata": {},
   "source": [
    "In this example, the CustomException class is created by inheriting from the Exception class. The __init__ method is overridden to accept a message parameter, which is stored as an instance variable self.message. The super().__init__(self.message) line calls the __init__ method of the base Exception class, passing the message as an argument.\n",
    "\n",
    "Now, let's see an example that demonstrates the usage of the custom exception class:"
   ]
  },
  {
   "cell_type": "code",
   "execution_count": 9,
   "metadata": {},
   "outputs": [
    {
     "name": "stdout",
     "output_type": "stream",
     "text": [
      "Error: Cannot divide by zero\n"
     ]
    }
   ],
   "source": [
    "def divide_numbers(a, b):\n",
    "    if b == 0:\n",
    "        raise CustomException(\"Cannot divide by zero\")\n",
    "    return a / b\n",
    "\n",
    "try:\n",
    "    result = divide_numbers(10, 0)\n",
    "    print(\"Result:\", result)\n",
    "except CustomException as e:\n",
    "    print(\"Error:\", e.message)"
   ]
  },
  {
   "attachments": {},
   "cell_type": "markdown",
   "metadata": {},
   "source": [
    "In this example, the divide_numbers function divides two numbers. If the second number (b) is zero, it raises a CustomException with the message \"Cannot divide by zero\". The exception is caught using a try-except block, and the error message is printed.\n",
    "\n",
    "Output:"
   ]
  },
  {
   "cell_type": "code",
   "execution_count": null,
   "metadata": {},
   "outputs": [],
   "source": [
    "Error: Cannot divide by zero"
   ]
  },
  {
   "attachments": {},
   "cell_type": "markdown",
   "metadata": {},
   "source": [
    "By creating a custom exception class, you can define your own specific exception types that provide meaningful error messages and handle them in a way that suits your application's needs."
   ]
  },
  {
   "attachments": {},
   "cell_type": "markdown",
   "metadata": {},
   "source": [
    "4. What are some common exceptions that are built-in to Python?"
   ]
  },
  {
   "attachments": {},
   "cell_type": "markdown",
   "metadata": {},
   "source": [
    "Ans4.Python provides several built-in exceptions that can be used to handle different types of errors and exceptional situations in your code. Here are some of the common built-in exceptions in Python:\n",
    "\n",
    "1.SyntaxError: Raised when there is a syntax error in your code.\n",
    "\n",
    "2.IndentationError: Raised when there is an indentation error in your code (e.g., incorrect spacing or tabs).\n",
    "\n",
    "3.NameError: Raised when a variable or name is not found in the current scope.\n",
    "\n",
    "4.TypeError: Raised when an operation or function is applied to an object of an inappropriate type.\n",
    "\n",
    "5.ValueError: Raised when a function receives an argument of the correct type but an inappropriate value.\n",
    "\n",
    "6.KeyError: Raised when a dictionary is accessed with a key that does not exist.\n",
    "\n",
    "7.IndexError: Raised when a sequence (such as a list or string) is accessed with an index that is out of range.\n",
    "\n",
    "8.FileNotFoundError: Raised when a file or directory is not found.\n",
    "\n",
    "9.ImportError: Raised when an imported module or package cannot be found or loaded.\n",
    "\n",
    "10.ZeroDivisionError: Raised when division or modulo operation is performed with zero as the denominator.\n",
    "\n",
    "11.AttributeError: Raised when an attribute or method is not found on an object.\n",
    "\n",
    "12.IOError: Raised when an input/output operation fails, such as reading or writing to a file.\n",
    "\n",
    "13.KeyboardInterrupt: Raised when the user interrupts the execution of a program by pressing Ctrl+C.\n",
    "\n",
    "14.MemoryError: Raised when an operation runs out of memory.\n",
    "\n",
    "15.OverflowError: Raised when a calculation exceeds the maximum limit of a numeric type.\n",
    "\n",
    "16.StopIteration: Raised by iterator objects to signal the end of the iteration.\n",
    "\n",
    "17.AssertionError: Raised when an assertion fails.\n",
    "\n",
    "These are just a few examples of the built-in exceptions available in Python. You can find more information about exceptions in the Python documentation: https://docs.python.org/3/library/exceptions.html"
   ]
  },
  {
   "attachments": {},
   "cell_type": "markdown",
   "metadata": {},
   "source": [
    "5. What is logging in Python, and why is it important in software development?"
   ]
  },
  {
   "attachments": {},
   "cell_type": "markdown",
   "metadata": {},
   "source": [
    "Ans5.In Python, logging refers to the process of recording events, messages, or information that occur during the execution of a program. It involves capturing various levels of details about the program's behavior and saving them to a log file or other output destinations.\n",
    "\n",
    "Logging is crucial in software development for several reasons:\n",
    "\n",
    "1.Debugging and Troubleshooting: By logging relevant information at different points in the code, developers can track the flow of execution and identify potential issues or errors. It allows them to understand what happened leading up to an error or unexpected behavior, making the debugging process more efficient.\n",
    "\n",
    "2.Monitoring and Analysis: Logs provide valuable insights into the runtime behavior of a software system. By analyzing logs, developers can gain a deeper understanding of how the application is performing, detect performance bottlenecks, identify patterns, and make data-driven decisions to optimize the software.\n",
    "\n",
    "3.Auditing and Compliance: In many industries, compliance regulations require applications to log certain events for security, auditing, or legal purposes. Logging allows developers to maintain an audit trail, record user activities, track system changes, and demonstrate compliance with regulations.\n",
    "\n",
    "4.Maintenance and Maintenance Releases: Logs aid in maintaining and releasing software. By analyzing logs from previous versions, developers can identify recurring issues, patterns of failure, or areas for improvement. This information can guide maintenance activities, such as bug fixes, patches, and feature enhancements.\n",
    "\n",
    "5.Security Analysis: Logs play a crucial role in security analysis and incident response. They can provide vital information about security-related events, suspicious activities, and potential breaches. By analyzing the logs, security teams can detect and respond to security incidents, investigate unauthorized access attempts, and improve the overall security posture of the system.\n",
    "\n",
    "Python provides a built-in logging module that offers a flexible and configurable logging framework. It allows developers to define different log levels, specify output formats, choose output destinations (files, console, network), and even customize logging behavior according to the application's specific requirements."
   ]
  },
  {
   "attachments": {},
   "cell_type": "markdown",
   "metadata": {},
   "source": [
    "6. Explain the purpose of log levels in Python logging and provide examples of when\n",
    "each log level would be appropriate."
   ]
  },
  {
   "attachments": {},
   "cell_type": "markdown",
   "metadata": {},
   "source": [
    "Ans6.In Python logging, log levels are used to categorize log messages based on their severity or importance. They provide a way to control the verbosity of logging output and allow developers to filter and handle log messages based on their significance. Python's logging module defines several log levels, each serving a specific purpose. Here are the commonly used log levels along with examples of when each level would be appropriate:\n",
    "\n",
    "1.DEBUG: The DEBUG level is the lowest and most detailed log level. It is typically used for debugging purposes, providing detailed information about the program's execution flow, variable values, and other relevant details. Example usage:"
   ]
  },
  {
   "cell_type": "code",
   "execution_count": null,
   "metadata": {},
   "outputs": [],
   "source": [
    "import logging\n",
    "\n",
    "logging.basicConfig(level=logging.DEBUG)\n",
    "logger = logging.getLogger()\n",
    "\n",
    "# Example usage of DEBUG level\n",
    "logger.debug(\"Variable x = %s\", x)"
   ]
  },
  {
   "attachments": {},
   "cell_type": "markdown",
   "metadata": {},
   "source": [
    "2.INFO: The INFO level provides informational messages that confirm that things are working as expected. It gives a broader overview of the program's execution without excessive details. Example usage:"
   ]
  },
  {
   "cell_type": "code",
   "execution_count": null,
   "metadata": {},
   "outputs": [],
   "source": [
    "import logging\n",
    "\n",
    "logging.basicConfig(level=logging.INFO)\n",
    "logger = logging.getLogger()\n",
    "\n",
    "# Example usage of INFO level\n",
    "logger.info(\"Server started on port %d\", port)"
   ]
  },
  {
   "attachments": {},
   "cell_type": "markdown",
   "metadata": {},
   "source": [
    "3.WARNING: The WARNING level indicates potential issues or unexpected behavior that may cause problems in the future but does not prevent the program from functioning. It is often used to highlight non-fatal errors or warnings. Example usage:"
   ]
  },
  {
   "cell_type": "code",
   "execution_count": null,
   "metadata": {},
   "outputs": [],
   "source": [
    "import logging\n",
    "\n",
    "logging.basicConfig(level=logging.WARNING)\n",
    "logger = logging.getLogger()\n",
    "\n",
    "# Example usage of WARNING level\n",
    "logger.warning(\"File not found: %s\", filename)"
   ]
  },
  {
   "attachments": {},
   "cell_type": "markdown",
   "metadata": {},
   "source": [
    "4.ERROR: The ERROR level represents errors that occurred during the program's execution. These errors are more severe than warnings and indicate a problem that prevents the program from functioning correctly. Example usage:"
   ]
  },
  {
   "cell_type": "code",
   "execution_count": null,
   "metadata": {},
   "outputs": [],
   "source": [
    "import logging\n",
    "\n",
    "logging.basicConfig(level=logging.ERROR)\n",
    "logger = logging.getLogger()\n",
    "\n",
    "# Example usage of ERROR level\n",
    "logger.error(\"An error occurred: %s\", error_message)"
   ]
  },
  {
   "attachments": {},
   "cell_type": "markdown",
   "metadata": {},
   "source": [
    "5.CRITICAL: The CRITICAL level represents critical errors that may lead to the termination of the program. It indicates a severe failure that requires immediate attention. Example usage:"
   ]
  },
  {
   "cell_type": "code",
   "execution_count": null,
   "metadata": {},
   "outputs": [],
   "source": [
    "import logging\n",
    "\n",
    "logging.basicConfig(level=logging.CRITICAL)\n",
    "logger = logging.getLogger()\n",
    "\n",
    "# Example usage of CRITICAL level\n",
    "logger.critical(\"System is running out of memory!\")"
   ]
  },
  {
   "attachments": {},
   "cell_type": "markdown",
   "metadata": {},
   "source": [
    "By setting the log level appropriately, you can control the amount of information logged and focus on the relevant messages based on the context and severity of the situation at hand."
   ]
  },
  {
   "attachments": {},
   "cell_type": "markdown",
   "metadata": {},
   "source": [
    "7. What are log formatters in Python logging, and how can you customise the log\n",
    "message format using formatters?"
   ]
  },
  {
   "attachments": {},
   "cell_type": "markdown",
   "metadata": {},
   "source": [
    "Ans7.In Python's logging module, log formatters are used to define the format of log messages that are outputted by the logging system. A log formatter specifies the layout and structure of the log messages, allowing you to customize the information included in each log entry.\n",
    "\n",
    "The logging module provides a class called Formatter that serves as the base class for creating log formatters. To customize the log message format, you can create an instance of the Formatter class or its subclasses and specify the desired format using formatting codes.\n",
    "\n",
    "Here's an example that demonstrates how to create a custom log formatter in Python:"
   ]
  },
  {
   "cell_type": "code",
   "execution_count": null,
   "metadata": {},
   "outputs": [],
   "source": [
    "import logging\n",
    "\n",
    "# Create a custom formatter\n",
    "formatter = logging.Formatter('%(asctime)s - %(levelname)s - %(message)s')\n",
    "\n",
    "# Create a logger and set the formatter\n",
    "logger = logging.getLogger('my_logger')\n",
    "handler = logging.StreamHandler()\n",
    "handler.setFormatter(formatter)\n",
    "logger.addHandler(handler)\n",
    "\n",
    "# Log messages\n",
    "logger.debug('This is a debug message')\n",
    "logger.info('This is an info message')\n",
    "logger.warning('This is a warning message')\n",
    "logger.error('This is an error message')\n",
    "logger.critical('This is a critical message')"
   ]
  },
  {
   "attachments": {},
   "cell_type": "markdown",
   "metadata": {},
   "source": [
    "In the example above, we create a Formatter instance called formatter with the desired log message format. The format string '%(asctime)s - %(levelname)s - %(message)s' specifies the format of the log message. The formatting codes enclosed in %() are replaced with the corresponding values when a log message is emitted.\n",
    "\n",
    "We then create a logger named 'my_logger' and attach a StreamHandler to it. The StreamHandler is responsible for outputting log messages to the console. We set the formatter instance on the handler using handler.setFormatter(formatter). This ensures that log messages emitted by the logger will be formatted according to our custom format.\n",
    "\n",
    "Finally, we emit log messages at different levels using the logger. The log messages will be formatted according to the format specified in the custom formatter.\n",
    "\n",
    "You can customize the log message format by including additional formatting codes in the format string. The Formatter class provides a range of formatting codes that allow you to include various attributes, such as log level, timestamp, logger name, etc., in the log message.\n",
    "\n",
    "Here are some commonly used formatting codes:\n",
    "\n",
    "%(asctime)s: Timestamp of the log message\n",
    "%(levelname)s: Log level (e.g., DEBUG, INFO, WARNING, ERROR, CRITICAL)\n",
    "%(message)s: The log message itself\n",
    "%(name)s: Logger name\n",
    "%(filename)s: Name of the source file where the logging call was made\n",
    "%(lineno)d: Line number in the source file where the logging call was made\n",
    "You can refer to the Python documentation for a comprehensive list of formatting codes and their descriptions: Logging documentation\n",
    "\n",
    "By customizing the log message format using formatters, you have flexibility in determining what information is included in each log entry, making it easier to analyze and interpret log data for debugging, monitoring, or auditing purposes."
   ]
  },
  {
   "attachments": {},
   "cell_type": "markdown",
   "metadata": {},
   "source": [
    "8. How can you set up logging to capture log messages from multiple modules or\n",
    "classes in a Python application?"
   ]
  },
  {
   "attachments": {},
   "cell_type": "markdown",
   "metadata": {},
   "source": [
    "Ans8.In Python, you can set up logging to capture log messages from multiple modules or classes by following these steps:\n",
    "\n",
    "1.Import the logging module:"
   ]
  },
  {
   "cell_type": "code",
   "execution_count": null,
   "metadata": {},
   "outputs": [],
   "source": [
    "import logging"
   ]
  },
  {
   "attachments": {},
   "cell_type": "markdown",
   "metadata": {},
   "source": [
    "2.Configure the logging settings:"
   ]
  },
  {
   "cell_type": "code",
   "execution_count": null,
   "metadata": {},
   "outputs": [],
   "source": [
    "logging.basicConfig(level=logging.DEBUG, format='%(asctime)s - %(name)s - %(levelname)s - %(message)s')"
   ]
  },
  {
   "attachments": {},
   "cell_type": "markdown",
   "metadata": {},
   "source": [
    "Here, level sets the minimum log level to capture (e.g., logging.DEBUG captures all levels), and format determines the structure of the log message."
   ]
  },
  {
   "attachments": {},
   "cell_type": "markdown",
   "metadata": {},
   "source": [
    "3.Add a logger to each module or class that needs logging:"
   ]
  },
  {
   "cell_type": "code",
   "execution_count": null,
   "metadata": {},
   "outputs": [],
   "source": [
    "logger = logging.getLogger(__name__)"
   ]
  },
  {
   "attachments": {},
   "cell_type": "markdown",
   "metadata": {},
   "source": [
    "The __name__ variable refers to the current module or class."
   ]
  },
  {
   "attachments": {},
   "cell_type": "markdown",
   "metadata": {},
   "source": [
    "4.Start logging messages using the logger:"
   ]
  },
  {
   "cell_type": "code",
   "execution_count": null,
   "metadata": {},
   "outputs": [],
   "source": [
    "logger.debug('Debug message')\n",
    "logger.info('Info message')\n",
    "logger.warning('Warning message')\n",
    "logger.error('Error message')\n",
    "logger.critical('Critical message')"
   ]
  },
  {
   "attachments": {},
   "cell_type": "markdown",
   "metadata": {},
   "source": [
    "You can use various logging methods (debug(), info(), warning(), error(), critical()) to specify different log levels."
   ]
  },
  {
   "attachments": {},
   "cell_type": "markdown",
   "metadata": {},
   "source": [
    "Optionally, configure log handlers for different output destinations. For example, you can add a handler to write log messages to a file:"
   ]
  },
  {
   "cell_type": "code",
   "execution_count": null,
   "metadata": {},
   "outputs": [],
   "source": [
    "file_handler = logging.FileHandler('logfile.log')\n",
    "file_handler.setLevel(logging.DEBUG)\n",
    "formatter = logging.Formatter('%(asctime)s - %(name)s - %(levelname)s - %(message)s')\n",
    "file_handler.setFormatter(formatter)\n",
    "logger.addHandler(file_handler)"
   ]
  },
  {
   "attachments": {},
   "cell_type": "markdown",
   "metadata": {},
   "source": [
    "This example sets the file handler to capture all log levels and formats the log message.\n",
    "\n",
    "By repeating steps 3 to 5 in different modules or classes, you can capture log messages from multiple sources in your Python application. The logs can be printed to the console, written to a file, sent to a database, or processed in any other way as per your requirements."
   ]
  },
  {
   "attachments": {},
   "cell_type": "markdown",
   "metadata": {},
   "source": [
    "9. What is the difference between the logging and print statements in Python? When\n",
    "should you use logging over print statements in a real-world application?\n"
   ]
  },
  {
   "attachments": {},
   "cell_type": "markdown",
   "metadata": {},
   "source": [
    "Ans9.The logging and print statements in Python serve different purposes and are used in different contexts.\n",
    "\n",
    "Print statements, as the name suggests, are used to display information on the console or standard output. They are primarily intended for debugging and temporary information display during development. Print statements are simple and straightforward, and they can be used to quickly inspect variable values, check the flow of execution, or troubleshoot issues. However, once the debugging phase is complete, print statements are often removed or commented out from the code.\n",
    "\n",
    "On the other hand, the logging module in Python provides a more robust and flexible approach for generating log messages. Logging is a powerful mechanism for recording events and information that occur during the execution of a program. It allows you to control the level of detail, format the output, and direct the logs to various destinations such as files, network streams, or external logging services.\n",
    "\n",
    "Here are some reasons why you should use logging over print statements in a real-world application:\n",
    "\n",
    "Flexibility: The logging module offers various log levels (e.g., debug, info, warning, error, critical) that allow you to control the verbosity of the output. This is particularly useful in large applications where different levels of detail are required for different parts of the codebase.\n",
    "\n",
    "Persistence: Log messages generated by the logging module are persistent and can be stored in files or other long-term storage. This enables you to analyze the logs later for troubleshooting or auditing purposes.\n",
    "\n",
    "Granular control: With the logging module, you can selectively enable or disable logging for different parts of your code without modifying the code itself. This can be helpful in production environments where you might want to log only critical errors or specific components.\n",
    "\n",
    "Centralized configuration: The logging module allows you to configure the logging behavior globally, so you can control the output format, log levels, and destinations from a centralized configuration file or through programmatic configuration. This makes it easier to maintain and change the logging behavior without modifying the code.\n",
    "\n",
    "Integration with external services: The logging module supports various handlers that allow you to send logs to external logging services or perform additional processing on log messages. This can be beneficial when you want to aggregate logs from multiple sources or utilize advanced log management and analysis tools.\n",
    "\n",
    "In summary, while print statements are handy for quick debugging and temporary output, the logging module provides a more sophisticated and configurable approach for generating persistent logs in real-world applications. It offers flexibility, granular control, and integration capabilities that make it a preferred choice for logging in production environments."
   ]
  },
  {
   "attachments": {},
   "cell_type": "markdown",
   "metadata": {},
   "source": [
    "10. Write a Python program that logs a message to a file named \"app.log\" with the\n",
    "following requirements:\n",
    "\n",
    "● The log message should be \"Hello, World!\"\n",
    "\n",
    "● The log level should be set to \"INFO.\"\n",
    "\n",
    "● The log file should append new log entries without overwriting previous ones."
   ]
  },
  {
   "attachments": {},
   "cell_type": "markdown",
   "metadata": {},
   "source": [
    "Ans10.Certainly! Here's a Python program that logs the message \"Hello, World!\" to a file named \"app.log\":"
   ]
  },
  {
   "cell_type": "code",
   "execution_count": null,
   "metadata": {},
   "outputs": [],
   "source": [
    "import logging\n",
    "\n",
    "def main():\n",
    "    logging.basicConfig(filename='app.log', level=logging.INFO)\n",
    "    logging.info(\"Hello, World!\")\n",
    "\n",
    "if __name__ == \"__main__\":\n",
    "    main()"
   ]
  },
  {
   "attachments": {},
   "cell_type": "markdown",
   "metadata": {},
   "source": [
    "In this program, we use the logging module to configure logging to write messages to a file named \"app.log\". The basicConfig() function is called to set up the logging configuration, specifying the filename and log level. We set the log level to logging.INFO to log only messages at the INFO level or higher.\n",
    "\n",
    "Then, we use logging.info() to log the message \"Hello, World!\" to the file. This message will be appended to the log file each time the program is run.\n",
    "\n",
    "To run the program, simply save it to a Python file (e.g., log_message.py) and execute it. The log file app.log will be created in the same directory as the Python script, and the message \"Hello, World!\" will be logged to the file."
   ]
  },
  {
   "attachments": {},
   "cell_type": "markdown",
   "metadata": {},
   "source": [
    "● Sure! Here's a Python program that logs a message to a file named \"app.log\" with the log level set to \"INFO\":"
   ]
  },
  {
   "cell_type": "code",
   "execution_count": null,
   "metadata": {},
   "outputs": [],
   "source": [
    "import logging\n",
    "\n",
    "# Set up logging configuration\n",
    "logging.basicConfig(level=logging.INFO, filename='app.log', filemode='a',\n",
    "                    format='%(asctime)s - %(levelname)s - %(message)s')\n",
    "\n",
    "# Log an INFO-level message\n",
    "logging.info('This is an INFO-level log message.')"
   ]
  },
  {
   "attachments": {},
   "cell_type": "markdown",
   "metadata": {},
   "source": [
    "Explanation:\n",
    "\n",
    "The logging module is imported to handle the logging functionality.\n",
    "The basicConfig() function is called to configure the logging. The level parameter is set to logging.INFO to set the log level to \"INFO.\"\n",
    "The filename parameter is set to 'app.log' to specify the log file name.\n",
    "The filemode parameter is set to 'a' (append mode) so that log messages are appended to the existing file rather than overwriting it.\n",
    "The format parameter is set to specify the format of the log message, including the timestamp, log level, and message content.\n",
    "The logging.info() function is used to log an INFO-level message with the specified content.\n",
    "When you run this program, it will create a file named \"app.log\" (if it doesn't exist) and append an INFO-level log message to it. Subsequent runs of the program will add new log messages to the same file."
   ]
  },
  {
   "attachments": {},
   "cell_type": "markdown",
   "metadata": {},
   "source": [
    "● Certainly! Here's a Python program that logs messages to a file named \"app.log\" while appending new log entries without overwriting the previous ones:"
   ]
  },
  {
   "cell_type": "code",
   "execution_count": null,
   "metadata": {},
   "outputs": [],
   "source": [
    "def log_message(message):\n",
    "    with open(\"app.log\", \"a\") as file:\n",
    "        file.write(message + \"\\n\")\n",
    "        print(\"Message logged successfully.\")\n",
    "\n",
    "# Example usage\n",
    "log_message(\"This is a log message.\")"
   ]
  },
  {
   "attachments": {},
   "cell_type": "markdown",
   "metadata": {},
   "source": [
    "In this program, we define a function called log_message that takes a message as an argument. It opens the \"app.log\" file in append mode (\"a\"), which allows new log entries to be appended to the end of the file without overwriting the previous content.\n",
    "\n",
    "Inside the function, we use the write method to add the log message to the file. We also add a newline character (\"\\n\") after each message to ensure that each entry is written on a new line.\n",
    "\n",
    "After writing the log entry, the function prints a success message to indicate that the message has been logged successfully.\n",
    "\n",
    "To use this program, you can call the log_message function and pass the desired log message as an argument. For example, log_message(\"This is a log message.\") will log the message \"This is a log message.\" to the \"app.log\" file."
   ]
  },
  {
   "attachments": {},
   "cell_type": "markdown",
   "metadata": {},
   "source": [
    "11. Create a Python program that logs an error message to the console and a file named\n",
    "\"errors.log\" if an exception occurs during the program's execution. The error\n",
    "message should include the exception type and a timestamp."
   ]
  },
  {
   "attachments": {},
   "cell_type": "markdown",
   "metadata": {},
   "source": [
    "Ans11.Certainly! Here's an example Python program that logs error messages to both the console and a file named \"errors.log\" if an exception occurs during execution. The error message includes the exception type and a timestamp."
   ]
  },
  {
   "cell_type": "code",
   "execution_count": null,
   "metadata": {},
   "outputs": [],
   "source": [
    "import logging\n",
    "import traceback\n",
    "from datetime import datetime\n",
    "\n",
    "def log_error(exception_type, message):\n",
    "    timestamp = datetime.now().strftime(\"%Y-%m-%d %H:%M:%S\")\n",
    "    error_message = f\"{timestamp} [{exception_type.__name__}] {message}\"\n",
    "    \n",
    "    # Log to console\n",
    "    print(error_message)\n",
    "    \n",
    "    # Log to file\n",
    "    with open(\"errors.log\", \"a\") as file:\n",
    "        file.write(error_message + '\\n')\n",
    "\n",
    "# Example code that may raise an exception\n",
    "try:\n",
    "    # Your code goes here\n",
    "    # ...\n",
    "    raise ValueError(\"An example exception occurred!\")\n",
    "except Exception as e:\n",
    "    # Log the error\n",
    "    log_error(type(e), str(e))\n",
    "    # Print the traceback"
   ]
  },
  {
   "attachments": {},
   "cell_type": "markdown",
   "metadata": {},
   "source": [
    "In this example, we define a log_error function that takes the exception type and error message as arguments. It creates a timestamp using the datetime module and constructs the error message. The error message is then printed to the console using print and appended to the \"errors.log\" file using open in append mode.\n",
    "\n",
    "The code block enclosed in the try-except statement represents your actual program code. If an exception occurs, it raises a ValueError with a custom error message for demonstration purposes. You can replace this code with your own logic.\n",
    "\n",
    "When an exception is caught, the log_error function is called with the exception type (type(e)) and the exception message (str(e)). After logging the error, the traceback.print_exc() function is used to print the traceback information to the console, providing additional details about the exception.\n",
    "\n",
    "Remember to save the Python program in a file with a .py extension (e.g., error_logging.py) and make sure you have write permissions to create the \"errors.log\" file in the same directory as the script."
   ]
  }
 ],
 "metadata": {
  "kernelspec": {
   "display_name": "Python 3 (ipykernel)",
   "language": "python",
   "name": "python3"
  },
  "language_info": {
   "codemirror_mode": {
    "name": "ipython",
    "version": 3
   },
   "file_extension": ".py",
   "mimetype": "text/x-python",
   "name": "python",
   "nbconvert_exporter": "python",
   "pygments_lexer": "ipython3",
   "version": "3.11.4"
  }
 },
 "nbformat": 4,
 "nbformat_minor": 4
}
