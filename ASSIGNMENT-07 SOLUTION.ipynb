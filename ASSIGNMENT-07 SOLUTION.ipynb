{
 "cells": [
  {
   "attachments": {},
   "cell_type": "markdown",
   "metadata": {},
   "source": [
    "ASSIGNMENT-07\n",
    "(21 MAY 2023)\n",
    "(PYTHON BASIC- 02)"
   ]
  },
  {
   "attachments": {},
   "cell_type": "markdown",
   "metadata": {},
   "source": [
    "Q.1. Create two int type variables, apply addition, subtraction, division and multiplications\n",
    "and store the results in variables. Then print the data in the following format by calling the\n",
    "variables:\n",
    "\n",
    "First variable is __ & second variable is __.\n",
    "\n",
    "Addition: __ + __ = __\n",
    "\n",
    "Subtraction: __ - __ = __\n",
    "\n",
    "Multiplication: __ * __ = __\n",
    "\n",
    "Division: __ / __ = __"
   ]
  },
  {
   "attachments": {},
   "cell_type": "markdown",
   "metadata": {},
   "source": [
    "Ans1.Sure! Here's the code that creates two int type variables, performs the arithmetic operations, stores the results in variables, and prints the data in the desired format:"
   ]
  },
  {
   "cell_type": "code",
   "execution_count": 1,
   "metadata": {},
   "outputs": [
    {
     "name": "stdout",
     "output_type": "stream",
     "text": [
      "First variable is 10 & second variable is 5\n",
      "Addition: 10 + 5 = 15\n",
      "Subtraction: 10 - 5 = 5\n",
      "Multiplication: 10 * 5 = 50\n",
      "Division: 10 / 5 = 2.0\n"
     ]
    }
   ],
   "source": [
    "# Create variables\n",
    "first_variable = 10\n",
    "second_variable = 5\n",
    "\n",
    "# Perform arithmetic operations and store results\n",
    "addition = first_variable + second_variable\n",
    "subtraction = first_variable - second_variable\n",
    "multiplication = first_variable * second_variable\n",
    "division = first_variable / second_variable\n",
    "\n",
    "# Print the data in the desired format\n",
    "print(\"First variable is\", first_variable, \"& second variable is\", second_variable)\n",
    "print(\"Addition:\", first_variable, \"+\", second_variable, \"=\", addition)\n",
    "print(\"Subtraction:\", first_variable, \"-\", second_variable, \"=\", subtraction)\n",
    "print(\"Multiplication:\", first_variable, \"*\", second_variable, \"=\", multiplication)\n",
    "print(\"Division:\", first_variable, \"/\", second_variable, \"=\", division)"
   ]
  },
  {
   "attachments": {},
   "cell_type": "markdown",
   "metadata": {},
   "source": [
    "Note that in Python, when dividing two integers, the result will be a float if it's not a perfect division. That's why the division result in this example is 2.0."
   ]
  },
  {
   "attachments": {},
   "cell_type": "markdown",
   "metadata": {},
   "source": [
    "Q.2. What is the difference between the following operators:\n",
    "\n",
    "(i) ‘/’ & ‘//’\n",
    "\n",
    "(ii) ‘**’ & ‘^’\n"
   ]
  },
  {
   "attachments": {},
   "cell_type": "markdown",
   "metadata": {},
   "source": [
    "Ans2.(i) The operators '/' and '//' are both used for division in Python, but they have different behaviors.\n",
    "\n",
    "'/' is the division operator and performs normal division, which can produce a float result. For example, if you divide 10 by 3 using '/', the result will be approximately 3.33333.\n",
    "\n",
    "'//' is the floor division operator. It performs division and rounds the result down to the nearest whole number (floor value). For example, if you divide 10 by 3 using '//', the result will be 3 (the nearest whole number less than or equal to the exact division result).\n",
    "\n",
    "Here's an example to illustrate the difference:"
   ]
  },
  {
   "cell_type": "code",
   "execution_count": 2,
   "metadata": {},
   "outputs": [
    {
     "name": "stdout",
     "output_type": "stream",
     "text": [
      "Result using '/': 3.3333333333333335\n",
      "Result using '//': 3\n"
     ]
    }
   ],
   "source": [
    "x = 10\n",
    "y = 3\n",
    "\n",
    "result1 = x / y\n",
    "result2 = x // y\n",
    "\n",
    "print(\"Result using '/':\", result1)  # Output: 3.33333\n",
    "print(\"Result using '//':\", result2)  # Output: 3"
   ]
  },
  {
   "attachments": {},
   "cell_type": "markdown",
   "metadata": {},
   "source": [
    "(ii) The operators '**' and '^' are used for exponentiation in Python, but they have different meanings.\n",
    "\n",
    "'' is the exponentiation operator. It raises the left operand to the power of the right operand. For example, if you calculate 2 raised to the power of 3 using '', the result will be 8.\n",
    "\n",
    "'^' is not a built-in operator for exponentiation in Python. Instead, it is the bitwise XOR operator, used for performing bitwise XOR operation on the binary representations of the operands.\n",
    "\n",
    "Here's an example to illustrate the correct usage of the exponentiation operator:"
   ]
  },
  {
   "cell_type": "code",
   "execution_count": 3,
   "metadata": {},
   "outputs": [
    {
     "name": "stdout",
     "output_type": "stream",
     "text": [
      "Result using '**': 8\n"
     ]
    }
   ],
   "source": [
    "x = 2\n",
    "y = 3\n",
    "\n",
    "result1 = x ** y\n",
    "\n",
    "print(\"Result using '**':\", result1)  # Output: 8"
   ]
  },
  {
   "attachments": {},
   "cell_type": "markdown",
   "metadata": {},
   "source": [
    "It's important to note that if you mistakenly use '^' instead of '**' for exponentiation, you'll get a different result due to the bitwise XOR operation being performed instead"
   ]
  },
  {
   "attachments": {},
   "cell_type": "markdown",
   "metadata": {},
   "source": [
    "Q.3. List the logical operators."
   ]
  },
  {
   "attachments": {},
   "cell_type": "markdown",
   "metadata": {},
   "source": [
    "Ans3.The logical operators in Python are:\n",
    "\n",
    "1. and: The logical \"and\" operator returns True if both operands are True, otherwise it returns False.\n",
    "\n",
    "2. or: The logical \"or\" operator returns True if at least one of the operands is True, otherwise it returns False.\n",
    "\n",
    "3. not: The logical \"not\" operator negates the value of the operand. If the operand is True, it returns False, and if the operand is False, it returns True.\n",
    "\n",
    "These logical operators are typically used to combine or manipulate boolean values in conditional statements or boolean expressions."
   ]
  },
  {
   "attachments": {},
   "cell_type": "markdown",
   "metadata": {},
   "source": [
    "Q.4. Explain right shift operator and left shift operator with examples."
   ]
  },
  {
   "attachments": {},
   "cell_type": "markdown",
   "metadata": {},
   "source": [
    "Ans4.The right shift operator (>>) and left shift operator (<<) are bitwise shift operators in Python. They are used to shift the binary representation of an integer to the right or left by a specified number of positions.\n",
    "\n",
    "The right shift operator (>>) shifts the bits of the number to the right by the specified number of positions. It discards the rightmost bits and fills the leftmost bits with the sign bit (for signed integers) or with 0 (for unsigned integers).\n",
    "\n",
    "The left shift operator (<<) shifts the bits of the number to the left by the specified number of positions. It fills the rightmost bits with 0.\n",
    "\n",
    "Here are some examples to illustrate the right shift and left shift operators:"
   ]
  },
  {
   "cell_type": "code",
   "execution_count": 4,
   "metadata": {},
   "outputs": [
    {
     "name": "stdout",
     "output_type": "stream",
     "text": [
      "Result of right shift: 2\n",
      "Result of left shift: 6\n"
     ]
    }
   ],
   "source": [
    "# Right shift operator (>>)\n",
    "x = 8  # Binary: 1000\n",
    "\n",
    "# Shift right by 2 positions\n",
    "result = x >> 2  # Binary: 0010, Decimal: 2\n",
    "print(\"Result of right shift:\", result)\n",
    "\n",
    "# Left shift operator (<<)\n",
    "y = 3  # Binary: 0011\n",
    "\n",
    "# Shift left by 1 position\n",
    "result = y << 1  # Binary: 0110, Decimal: 6\n",
    "print(\"Result of left shift:\", result)"
   ]
  },
  {
   "attachments": {},
   "cell_type": "markdown",
   "metadata": {},
   "source": [
    "In the example above, x is initially 8, which is represented in binary as 1000. Shifting x to the right by 2 positions using x >> 2 results in 0010, which is 2 in decimal.\n",
    "Similarly, y is initially 3, represented in binary as 0011. Shifting y to the left by 1 position using y << 1 results in 0110, which is 6 in decimal.\n",
    "It's important to note that the shift operators are primarily used for low-level operations and bitwise manipulations, such as optimizing performance or working with binary representations of data."
   ]
  },
  {
   "attachments": {},
   "cell_type": "markdown",
   "metadata": {},
   "source": [
    "Q.5. Create a list containing int type data of length 15. Then write a code to check if 10 is\n",
    "present in the list or not."
   ]
  },
  {
   "attachments": {},
   "cell_type": "markdown",
   "metadata": {},
   "source": [
    "Ans5.Certainly! Here's an example code that creates a list of length 15 with integer data and checks if the value 10 is present in the list:"
   ]
  },
  {
   "cell_type": "code",
   "execution_count": 5,
   "metadata": {},
   "outputs": [
    {
     "name": "stdout",
     "output_type": "stream",
     "text": [
      "10 is present in the list.\n"
     ]
    }
   ],
   "source": [
    "# Create a list of integers\n",
    "my_list = [3, 7, 2, 14, 8, 5, 1, 9, 12, 4, 10, 6, 11, 13, 15]\n",
    "\n",
    "# Check if 10 is present in the list\n",
    "if 10 in my_list:\n",
    "    print(\"10 is present in the list.\")\n",
    "else:\n",
    "    print(\"10 is not present in the list.\")"
   ]
  },
  {
   "attachments": {},
   "cell_type": "markdown",
   "metadata": {},
   "source": [
    "In this code, my_list is a list containing 15 integers. The in operator is used to check if the value 10 is present in the list. If it is, the code prints \"10 is present in the list.\" Otherwise, it prints \"10 is not present in the list.\"\n",
    "\n",
    "You can modify the values in the list or the value being checked (10) to test with different scenarios."
   ]
  }
 ],
 "metadata": {
  "kernelspec": {
   "display_name": "Python 3",
   "language": "python",
   "name": "python3"
  },
  "language_info": {
   "codemirror_mode": {
    "name": "ipython",
    "version": 3
   },
   "file_extension": ".py",
   "mimetype": "text/x-python",
   "name": "python",
   "nbconvert_exporter": "python",
   "pygments_lexer": "ipython3",
   "version": "3.9.13"
  },
  "orig_nbformat": 4
 },
 "nbformat": 4,
 "nbformat_minor": 2
}
