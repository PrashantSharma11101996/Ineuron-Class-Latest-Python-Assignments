{
 "cells": [
  {
   "attachments": {},
   "cell_type": "markdown",
   "metadata": {},
   "source": [
    "02_July_OOPs_inheritance assignment solution"
   ]
  },
  {
   "attachments": {},
   "cell_type": "markdown",
   "metadata": {},
   "source": [
    "1. Explain what inheritance is in object-oriented programming and why it is used."
   ]
  },
  {
   "attachments": {},
   "cell_type": "markdown",
   "metadata": {},
   "source": [
    "Ans1.In object-oriented programming (OOP), inheritance is a fundamental concept that allows a class to inherit properties and behaviors from another class. It is a mechanism by which one class, called the derived or child class, acquires the characteristics of another class, known as the base or parent class. The derived class inherits the fields, methods, and other members defined in the parent class, which can then be used directly within the derived class or overridden to provide customized functionality.\n",
    "\n",
    "Inheritance is used in OOP for several reasons:\n",
    "\n",
    "1.Code reuse: Inheritance promotes code reuse by allowing classes to inherit common attributes and behaviors from a base class. Instead of writing the same code multiple times in different classes, you can define it once in a base class and inherit it in other derived classes.\n",
    "\n",
    "2.Modularity and extensibility: Inheritance enables the creation of modular and extensible code structures. You can define a base class with common functionality, and then derive specialized classes from it that add or modify behavior as needed. This approach allows for a clear separation of concerns and promotes a more organized and maintainable codebase.\n",
    "\n",
    "3.Polymorphism: Inheritance is closely related to polymorphism, which is another key concept in OOP. Polymorphism allows objects of different classes to be treated as objects of a common base class. Through inheritance, you can define a set of related classes with shared characteristics, and then use them interchangeably, enhancing flexibility and code reusability.\n",
    "\n",
    "4.Hierarchical organization: Inheritance allows you to create class hierarchies, where classes are organized in a hierarchical manner based on their relationships. This hierarchical structure helps in modeling real-world entities and their relationships, making the code more intuitive and reflective of the problem domain.\n",
    "\n",
    "Overall, inheritance is used to promote code reuse, modular design, extensibility, and polymorphism in object-oriented programming. It enables developers to build upon existing code, create class hierarchies, and organize their codebase in a more efficient and maintainable manner."
   ]
  },
  {
   "attachments": {},
   "cell_type": "markdown",
   "metadata": {},
   "source": [
    "2. Discuss the concept of single inheritance and multiple inheritance, highlighting their\n",
    "differences and advantages."
   ]
  },
  {
   "attachments": {},
   "cell_type": "markdown",
   "metadata": {},
   "source": [
    "Ans2.In object-oriented programming, inheritance is a fundamental concept that allows classes to inherit properties and behaviors from other classes. It helps promote code reuse and establishes relationships between classes. There are two main types of inheritance: single inheritance and multiple inheritance. Let's discuss each of them and highlight their differences and advantages.\n",
    "\n",
    "1.Single Inheritance:\n",
    "Single inheritance is a type of inheritance where a class inherits properties and behaviors from only one base class. In other words, a derived class can have only one direct parent class. The derived class extends the base class, inheriting all its non-private members, including variables, methods, and other members.\n",
    "\n",
    "Advantages of Single Inheritance:\n",
    "\n",
    "Simplicity: Single inheritance is conceptually simpler to understand and implement compared to multiple inheritance. There is a clear hierarchical relationship between classes, making the code easier to read and maintain.\n",
    "\n",
    "Encapsulation: Single inheritance promotes encapsulation by allowing the derived class to access the non-private members of the base class. This helps in organizing and structuring the code effectively.\n",
    "\n",
    "2.Multiple Inheritance:\n",
    "Multiple inheritance is a type of inheritance where a class can inherit properties and behaviors from multiple base classes. In other words, a derived class can have multiple direct parent classes. The derived class inherits all the non-private members from each base class.\n",
    "\n",
    "Advantages of Multiple Inheritance:\n",
    "\n",
    "Code Reuse: Multiple inheritance allows a class to inherit functionality from multiple sources, promoting code reuse. This can lead to more modular and reusable code, as common functionality can be defined in separate base classes and inherited by multiple derived classes.\n",
    "\n",
    "Expressiveness: Multiple inheritance allows for greater expressiveness in designing class hierarchies. It can model complex relationships between classes more accurately by combining features from different parent classes.\n",
    "\n",
    "Differences between Single Inheritance and Multiple Inheritance:\n",
    "\n",
    "1.Number of Base Classes: Single inheritance allows a class to have only one direct parent class, whereas multiple inheritance allows a class to have multiple direct parent classes.\n",
    "\n",
    "2.Hierarchical Structure: Single inheritance creates a simple hierarchical structure with a clear parent-child relationship, while multiple inheritance can create a more complex diamond-shaped hierarchy when multiple base classes have a common ancestor.\n",
    "\n",
    "3.Ambiguity: Multiple inheritance can lead to ambiguity when two or more base classes define the same member. This is known as the \"diamond problem\" and requires explicit resolution by the derived class.\n",
    "\n",
    "4.Complexity: Multiple inheritance is generally more complex to understand and implement correctly compared to single inheritance. It requires careful design and consideration to avoid potential issues like the diamond problem.\n",
    "\n",
    "In summary, single inheritance allows a class to inherit from a single base class, providing simplicity and encapsulation, while multiple inheritance allows a class to inherit from multiple base classes, offering code reuse and expressive class hierarchies. The choice between them depends on the specific requirements of the program and the relationships between the classes involved."
   ]
  },
  {
   "attachments": {},
   "cell_type": "markdown",
   "metadata": {},
   "source": [
    "3. Explain the terms \"base class\" and \"derived class\" in the context of inheritance."
   ]
  },
  {
   "attachments": {},
   "cell_type": "markdown",
   "metadata": {},
   "source": [
    "Ans3.In object-oriented programming, specifically in the context of inheritance, the terms \"base class\" and \"derived class\" refer to the relationship between two classes.\n",
    "\n",
    "A base class, also known as a parent class or superclass, is the class from which other classes can inherit properties and methods. It serves as a template or blueprint for the derived classes. The base class encapsulates common attributes and behaviors that are shared among multiple derived classes.\n",
    "\n",
    "On the other hand, a derived class, also called a child class or subclass, is a class that inherits properties and methods from its base class. The derived class extends or specializes the functionality of the base class by adding new attributes and behaviors or overriding existing ones. It inherits all the accessible members (variables, methods, etc.) defined in the base class and can define its own unique members as well.\n",
    "\n",
    "The key idea behind inheritance is to promote code reuse and create a hierarchical structure of classes. By defining a base class with generic attributes and methods, you can avoid duplicating code in multiple classes that share common characteristics. Derived classes can then inherit and extend the functionality of the base class, providing a more specialized implementation as needed.\n",
    "\n",
    "In summary, the base class is the class that is inherited from, serving as a general template, while the derived class is the class that inherits from the base class and adds or modifies its functionality to create a more specific class."
   ]
  },
  {
   "attachments": {},
   "cell_type": "markdown",
   "metadata": {},
   "source": [
    "4. What is the significance of the \"protected\" access modifier in inheritance? How does\n",
    "it differ from \"private\" and \"public\" modifiers?"
   ]
  },
  {
   "attachments": {},
   "cell_type": "markdown",
   "metadata": {},
   "source": [
    "Ans4.\n",
    "In object-oriented programming, the \"protected\" access modifier is used to specify that a member (such as a variable or method) of a class is accessible within the class itself, its subclasses, and other classes within the same package (or assembly, depending on the programming language). The \"protected\" modifier provides a middle ground between the \"private\" and \"public\" modifiers.\n",
    "\n",
    "Here are the main differences between the \"protected,\" \"private,\" and \"public\" modifiers in the context of inheritance:\n",
    "\n",
    "Private: A member marked as \"private\" can only be accessed within the class where it is defined. It is not accessible to any subclasses or other classes, regardless of their location within the program. Private members are used to encapsulate implementation details and hide them from external access.\n",
    "\n",
    "Protected: A member marked as \"protected\" can be accessed within the class itself, its subclasses, and other classes in the same package (or assembly). Subclasses inherit the protected members of their superclass and can access them directly. This allows for the reuse of code and enables subclasses to access and modify certain aspects of the superclass's implementation.\n",
    "\n",
    "Public: A member marked as \"public\" is accessible from anywhere in the program, including other classes, subclasses, and packages. It has the widest scope of accessibility and can be freely accessed and modified by any part of the program. Public members define the interface of a class and are used to provide access to the desired functionality or data.\n",
    "\n",
    "Inheritance allows a subclass to inherit and extend the functionality of its superclass. The choice of access modifier determines the visibility of the inherited members in the subclass and other classes. The \"protected\" modifier strikes a balance between encapsulation and accessibility, providing more flexibility compared to \"private\" while still imposing some restrictions when compared to \"public.\""
   ]
  },
  {
   "attachments": {},
   "cell_type": "markdown",
   "metadata": {},
   "source": [
    "5. What is the purpose of the \"super\" keyword in inheritance? Provide an example"
   ]
  },
  {
   "attachments": {},
   "cell_type": "markdown",
   "metadata": {},
   "source": [
    "Ans5.In object-oriented programming, the \"super\" keyword is used to refer to the parent class or superclass. It is primarily used in inheritance to access and invoke methods or attributes from the superclass.\n",
    "\n",
    "When a class inherits from another class, it can override methods from the superclass with its own implementation. However, sometimes it is necessary to access or call the overridden method of the superclass. This is where the \"super\" keyword becomes useful.\n",
    "\n",
    "By using \"super\", you can explicitly refer to the superclass and access its methods or attributes. It allows you to extend the functionality of the superclass while retaining or modifying its behavior.\n",
    "\n",
    "Here's an example to illustrate the usage of the \"super\" keyword in Python:"
   ]
  },
  {
   "cell_type": "code",
   "execution_count": 26,
   "metadata": {},
   "outputs": [
    {
     "name": "stdout",
     "output_type": "stream",
     "text": [
      "The vehicle is starting.\n",
      "The Tesla Model S is starting.\n"
     ]
    }
   ],
   "source": [
    "class Vehicle:\n",
    "    def __init__(self, brand):\n",
    "        self.brand = brand\n",
    "\n",
    "    def start(self):\n",
    "        print(\"The vehicle is starting.\")\n",
    "\n",
    "class Car(Vehicle):\n",
    "    def __init__(self, brand, model):\n",
    "        super().__init__(brand)\n",
    "        self.model = model\n",
    "\n",
    "    def start(self):\n",
    "        super().start()  # Calling the start() method of the superclass\n",
    "        print(f\"The {self.brand} {self.model} is starting.\")\n",
    "\n",
    "# Creating an instance of the Car class\n",
    "my_car = Car(\"Tesla\", \"Model S\")\n",
    "my_car.start()"
   ]
  },
  {
   "attachments": {},
   "cell_type": "markdown",
   "metadata": {},
   "source": [
    "In this example, we have a Vehicle class and a Car class that inherits from Vehicle. The Car class overrides the start() method defined in the Vehicle class. However, by using super().start(), we can invoke the start() method of the Vehicle class from within the Car class. This allows us to perform additional actions specific to the Car class while reusing the behavior defined in the superclass.\n",
    "\n",
    "When the code is executed, it will output:"
   ]
  },
  {
   "attachments": {},
   "cell_type": "markdown",
   "metadata": {},
   "source": [
    "The vehicle is starting.\n",
    "\n",
    "The Tesla Model S is starting."
   ]
  },
  {
   "attachments": {},
   "cell_type": "markdown",
   "metadata": {},
   "source": [
    "As you can see, the start() method of the Car class first calls the start() method of the Vehicle class using super().start(), and then adds its own custom message."
   ]
  },
  {
   "attachments": {},
   "cell_type": "markdown",
   "metadata": {},
   "source": [
    "6. Create a base class called \"Vehicle\" with attributes like \"make\", \"model\", and \"year\".\n",
    "Then, create a derived class called \"Car\" that inherits from \"Vehicle\" and adds an\n",
    "attribute called \"fuel_type\". Implement appropriate methods in both classes."
   ]
  },
  {
   "attachments": {},
   "cell_type": "markdown",
   "metadata": {},
   "source": [
    "Ans6.Sure! Here's an example of how you can create the base class \"Vehicle\" with the attributes \"make\", \"model\", and \"year,\" and the derived class \"Car\" that inherits from \"Vehicle\" and adds the attribute \"fuel_type.\""
   ]
  },
  {
   "cell_type": "code",
   "execution_count": 27,
   "metadata": {},
   "outputs": [
    {
     "name": "stdout",
     "output_type": "stream",
     "text": [
      "Make: Toyota\n",
      "Model: Camry\n",
      "Year: 2022\n",
      "Fuel Type: Gasoline\n"
     ]
    }
   ],
   "source": [
    "class Vehicle:\n",
    "    def __init__(self, make, model, year):\n",
    "        self.make = make\n",
    "        self.model = model\n",
    "        self.year = year\n",
    "\n",
    "    def display_info(self):\n",
    "        print(f\"Make: {self.make}\")\n",
    "        print(f\"Model: {self.model}\")\n",
    "        print(f\"Year: {self.year}\")\n",
    "\n",
    "\n",
    "class Car(Vehicle):\n",
    "    def __init__(self, make, model, year, fuel_type):\n",
    "        super().__init__(make, model, year)\n",
    "        self.fuel_type = fuel_type\n",
    "\n",
    "    def display_info(self):\n",
    "        super().display_info()\n",
    "        print(f\"Fuel Type: {self.fuel_type}\")\n",
    "\n",
    "\n",
    "# Example usage\n",
    "my_car = Car(\"Toyota\", \"Camry\", 2022, \"Gasoline\")\n",
    "my_car.display_info()"
   ]
  },
  {
   "attachments": {},
   "cell_type": "markdown",
   "metadata": {},
   "source": [
    "In the code above, the Vehicle class is defined with the make, model, and year attributes in its constructor (__init__). It also has a display_info method that prints out the values of these attributes.\n",
    "\n",
    "The Car class is defined as a subclass of Vehicle. It adds an additional attribute called fuel_type in its constructor, along with the necessary call to super() to initialize the inherited attributes from the Vehicle class. It also overrides the display_info method from the base class to include the fuel_type attribute in the output."
   ]
  },
  {
   "attachments": {},
   "cell_type": "markdown",
   "metadata": {},
   "source": [
    "7. Create a base class called \"Employee\" with attributes like \"name\" and \"salary.\"\n",
    "Derive two classes, \"Manager\" and \"Developer,\" from \"Employee.\" Add an additional\n",
    "attribute called \"department\" for the \"Manager\" class and \"programming_language\"\n",
    "for the \"Developer\" class.\n"
   ]
  },
  {
   "attachments": {},
   "cell_type": "markdown",
   "metadata": {},
   "source": [
    "Ans7.Here's an example of the base class \"Employee\" with attributes \"name\" and \"salary,\" along with the derived classes \"Manager\" and \"Developer\" with their additional attributes \"department\" and \"programming_language,\" respectively, in Python:"
   ]
  },
  {
   "cell_type": "code",
   "execution_count": 28,
   "metadata": {},
   "outputs": [
    {
     "name": "stdout",
     "output_type": "stream",
     "text": [
      "John Doe\n",
      "5000\n",
      "Sales\n",
      "Jane Smith\n",
      "4000\n",
      "Python\n"
     ]
    }
   ],
   "source": [
    "class Employee:\n",
    "    def __init__(self, name, salary):\n",
    "        self.name = name\n",
    "        self.salary = salary\n",
    "\n",
    "\n",
    "class Manager(Employee):\n",
    "    def __init__(self, name, salary, department):\n",
    "        super().__init__(name, salary)\n",
    "        self.department = department\n",
    "\n",
    "\n",
    "class Developer(Employee):\n",
    "    def __init__(self, name, salary, programming_language):\n",
    "        super().__init__(name, salary)\n",
    "        self.programming_language = programming_language\n",
    "\n",
    "\n",
    "# Example usage:\n",
    "manager = Manager(\"John Doe\", 5000, \"Sales\")\n",
    "print(manager.name)         # Output: John Doe\n",
    "print(manager.salary)       # Output: 5000\n",
    "print(manager.department)   # Output: Sales\n",
    "\n",
    "developer = Developer(\"Jane Smith\", 4000, \"Python\")\n",
    "print(developer.name)                # Output: Jane Smith\n",
    "print(developer.salary)              # Output: 4000\n",
    "print(developer.programming_language) # Output: Python"
   ]
  },
  {
   "attachments": {},
   "cell_type": "markdown",
   "metadata": {},
   "source": [
    "In this example, the \"Employee\" class is the base class, and the \"Manager\" and \"Developer\" classes are derived from it using inheritance. The super() function is used in the derived classes' __init__ methods to call the base class's __init__ method and initialize the common attributes. Then, the derived classes add their own additional attributes."
   ]
  },
  {
   "attachments": {},
   "cell_type": "markdown",
   "metadata": {},
   "source": [
    "8. Design a base class called \"Shape\" with attributes like \"colour\" and \"border_width.\"\n",
    "Create derived classes, \"Rectangle\" and \"Circle,\" that inherit from \"Shape\" and add\n",
    "specific attributes like \"length\" and \"width\" for the \"Rectangle\" class and \"radius\" for\n",
    "the \"Circle\" class."
   ]
  },
  {
   "attachments": {},
   "cell_type": "markdown",
   "metadata": {},
   "source": [
    "Ans8.Sure! Here's an example implementation in Python:"
   ]
  },
  {
   "cell_type": "code",
   "execution_count": 29,
   "metadata": {},
   "outputs": [
    {
     "name": "stdout",
     "output_type": "stream",
     "text": [
      "blue\n",
      "2\n",
      "10\n",
      "5\n",
      "red\n",
      "1\n",
      "7\n"
     ]
    }
   ],
   "source": [
    "class Shape:\n",
    "    def __init__(self, colour, border_width):\n",
    "        self.colour = colour\n",
    "        self.border_width = border_width\n",
    "\n",
    "\n",
    "class Rectangle(Shape):\n",
    "    def __init__(self, colour, border_width, length, width):\n",
    "        super().__init__(colour, border_width)\n",
    "        self.length = length\n",
    "        self.width = width\n",
    "\n",
    "\n",
    "class Circle(Shape):\n",
    "    def __init__(self, colour, border_width, radius):\n",
    "        super().__init__(colour, border_width)\n",
    "        self.radius = radius\n",
    "\n",
    "\n",
    "# Example usage\n",
    "rectangle = Rectangle(\"blue\", 2, 10, 5)\n",
    "circle = Circle(\"red\", 1, 7)\n",
    "\n",
    "print(rectangle.colour)       # Output: blue\n",
    "print(rectangle.border_width)  # Output: 2\n",
    "print(rectangle.length)        # Output: 10\n",
    "print(rectangle.width)         # Output: 5\n",
    "\n",
    "print(circle.colour)          # Output: red\n",
    "print(circle.border_width)    # Output: 1\n",
    "print(circle.radius)          # Output: 7"
   ]
  },
  {
   "attachments": {},
   "cell_type": "markdown",
   "metadata": {},
   "source": [
    "In this example, the Shape class serves as the base class and contains the common attributes colour and border_width. The Rectangle and Circle classes inherit from Shape using the super() function in their respective __init__ methods.\n",
    "\n",
    "The Rectangle class adds specific attributes length and width, while the Circle class adds the specific attribute radius.\n",
    "\n",
    "You can create instances of the derived classes and access their attributes as shown in the example usage section."
   ]
  },
  {
   "attachments": {},
   "cell_type": "markdown",
   "metadata": {},
   "source": [
    "9. Create a base class called \"Device\" with attributes like \"brand\" and \"model.\" Derive\n",
    "two classes, \"Phone\" and \"Tablet,\" from \"Device.\" Add specific attributes like\n",
    "\"screen_size\" for the \"Phone\" class and \"battery_capacity\" for the \"Tablet\" class."
   ]
  },
  {
   "attachments": {},
   "cell_type": "markdown",
   "metadata": {},
   "source": [
    "Ans9.Certainly! Here's an implementation in Python:"
   ]
  },
  {
   "cell_type": "code",
   "execution_count": 30,
   "metadata": {},
   "outputs": [
    {
     "name": "stdout",
     "output_type": "stream",
     "text": [
      "Apple\n",
      "iPhone 12\n",
      "6.1\n",
      "Samsung\n",
      "Galaxy Tab S7\n",
      "10000\n"
     ]
    }
   ],
   "source": [
    "class Device:\n",
    "    def __init__(self, brand, model):\n",
    "        self.brand = brand\n",
    "        self.model = model\n",
    "\n",
    "\n",
    "class Phone(Device):\n",
    "    def __init__(self, brand, model, screen_size):\n",
    "        super().__init__(brand, model)\n",
    "        self.screen_size = screen_size\n",
    "\n",
    "\n",
    "class Tablet(Device):\n",
    "    def __init__(self, brand, model, battery_capacity):\n",
    "        super().__init__(brand, model)\n",
    "        self.battery_capacity = battery_capacity\n",
    "\n",
    "\n",
    "# Example usage\n",
    "phone = Phone(\"Apple\", \"iPhone 12\", 6.1)\n",
    "tablet = Tablet(\"Samsung\", \"Galaxy Tab S7\", 10000)\n",
    "\n",
    "print(phone.brand)          # Output: Apple\n",
    "print(phone.model)          # Output: iPhone 12\n",
    "print(phone.screen_size)    # Output: 6.1\n",
    "\n",
    "print(tablet.brand)             # Output: Samsung\n",
    "print(tablet.model)             # Output: Galaxy Tab S7\n",
    "print(tablet.battery_capacity)  # Output: 10000"
   ]
  },
  {
   "attachments": {},
   "cell_type": "markdown",
   "metadata": {},
   "source": [
    "In this example, the Device class is the base class and contains the common attributes brand and model. The Phone and Tablet classes derive from Device using the super() function in their respective __init__ methods.\n",
    "\n",
    "The Phone class adds the specific attribute screen_size, while the Tablet class adds the specific attribute battery_capacity.\n",
    "\n",
    "You can create instances of the derived classes and access their attributes as shown in the example usage section."
   ]
  },
  {
   "attachments": {},
   "cell_type": "markdown",
   "metadata": {},
   "source": [
    "10. Create a base class called \"BankAccount\" with attributes like \"account_number\" and\n",
    "\"balance.\" Derive two classes, \"SavingsAccount\" and \"CheckingAccount,\" from\n",
    "\"BankAccount.\" Add specific methods like \"calculate_interest\" for the\n",
    "\"SavingsAccount\" class and \"deduct_fees\" for the \"CheckingAccount\" class."
   ]
  },
  {
   "attachments": {},
   "cell_type": "markdown",
   "metadata": {},
   "source": [
    "Ans10.Sure! Here's an example implementation of the base class \"BankAccount\" and its derived classes \"SavingsAccount\" and \"CheckingAccount\" in Python:"
   ]
  },
  {
   "cell_type": "code",
   "execution_count": 31,
   "metadata": {},
   "outputs": [],
   "source": [
    "class BankAccount:\n",
    "    def __init__(self, account_number, balance):\n",
    "        self.account_number = account_number\n",
    "        self.balance = balance\n",
    "\n",
    "    def deposit(self, amount):\n",
    "        self.balance += amount\n",
    "\n",
    "    def withdraw(self, amount):\n",
    "        if amount <= self.balance:\n",
    "            self.balance -= amount\n",
    "        else:\n",
    "            print(\"Insufficient funds.\")\n",
    "\n",
    "    def display_balance(self):\n",
    "        print(f\"Account Number: {self.account_number}\")\n",
    "        print(f\"Balance: ${self.balance}\")\n",
    "\n",
    "\n",
    "class SavingsAccount(BankAccount):\n",
    "    def calculate_interest(self, rate):\n",
    "        interest = self.balance * rate\n",
    "        self.deposit(interest)\n",
    "        print(f\"Interest earned: ${interest}\")\n",
    "\n",
    "\n",
    "class CheckingAccount(BankAccount):\n",
    "    def deduct_fees(self, fees):\n",
    "        if self.balance >= fees:\n",
    "            self.withdraw(fees)\n",
    "            print(f\"Fees deducted: ${fees}\")\n",
    "        else:\n",
    "            print(\"Insufficient funds to deduct fees.\")"
   ]
  },
  {
   "attachments": {},
   "cell_type": "markdown",
   "metadata": {},
   "source": [
    "In this example, the BankAccount class serves as the base class, containing attributes like account_number and balance. It also has methods for depositing, withdrawing, and displaying the account balance.\n",
    "\n",
    "The SavingsAccount class is derived from BankAccount and includes an additional method called calculate_interest. This method takes a rate parameter and calculates the interest based on the current balance. The interest is then added to the account balance using the deposit method inherited from the base class.\n",
    "\n",
    "The CheckingAccount class is also derived from BankAccount and has a method called deduct_fees. This method deducts the specified fees from the account balance if sufficient funds are available. If the balance is insufficient, a message is displayed.\n",
    "\n",
    "You can create instances of these classes and use their methods like this:"
   ]
  },
  {
   "cell_type": "code",
   "execution_count": 32,
   "metadata": {},
   "outputs": [
    {
     "name": "stdout",
     "output_type": "stream",
     "text": [
      "Account Number: SA001\n",
      "Balance: $1000\n",
      "Interest earned: $50.0\n",
      "Account Number: SA001\n",
      "Balance: $1050.0\n",
      "Account Number: CA001\n",
      "Balance: $500\n",
      "Fees deducted: $10\n",
      "Account Number: CA001\n",
      "Balance: $490\n",
      "Insufficient funds to deduct fees.\n"
     ]
    }
   ],
   "source": [
    "# Create a savings account\n",
    "savings_acc = SavingsAccount(\"SA001\", 1000)\n",
    "savings_acc.display_balance()  # Account Number: SA001, Balance: $1000\n",
    "\n",
    "# Calculate interest for the savings account\n",
    "savings_acc.calculate_interest(0.05)  # Interest earned: $50\n",
    "savings_acc.display_balance()  # Account Number: SA001, Balance: $1050\n",
    "\n",
    "# Create a checking account\n",
    "checking_acc = CheckingAccount(\"CA001\", 500)\n",
    "checking_acc.display_balance()  # Account Number: CA001, Balance: $500\n",
    "\n",
    "# Deduct fees for the checking account\n",
    "checking_acc.deduct_fees(10)  # Fees deducted: $10\n",
    "checking_acc.display_balance()  # Account Number: CA001, Balance: $490\n",
    "\n",
    "# Try to deduct fees with insufficient funds\n",
    "checking_acc.deduct_fees(600)  # Insufficient funds to deduct fees."
   ]
  },
  {
   "attachments": {},
   "cell_type": "markdown",
   "metadata": {},
   "source": [
    "This is a basic implementation to illustrate the concept of inheritance and specific methods for derived classes. You can extend and modify it further based on your specific requirements."
   ]
  }
 ],
 "metadata": {
  "kernelspec": {
   "display_name": "Python 3",
   "language": "python",
   "name": "python3"
  },
  "language_info": {
   "codemirror_mode": {
    "name": "ipython",
    "version": 3
   },
   "file_extension": ".py",
   "mimetype": "text/x-python",
   "name": "python",
   "nbconvert_exporter": "python",
   "pygments_lexer": "ipython3",
   "version": "3.11.4"
  },
  "orig_nbformat": 4
 },
 "nbformat": 4,
 "nbformat_minor": 2
}
