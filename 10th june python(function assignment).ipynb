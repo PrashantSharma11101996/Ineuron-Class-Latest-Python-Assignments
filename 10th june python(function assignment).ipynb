{
 "cells": [
  {
   "attachments": {},
   "cell_type": "markdown",
   "metadata": {},
   "source": [
    "10 JUNE 2023 PYTHON ASSIGNMENT WITH SOLUTION."
   ]
  },
  {
   "attachments": {},
   "cell_type": "markdown",
   "metadata": {},
   "source": [
    "1. In Python, what is the difference between a built-in function and a user-defined function? Provide an\n",
    "example of each."
   ]
  },
  {
   "attachments": {},
   "cell_type": "markdown",
   "metadata": {},
   "source": [
    "Ans1.In Python, a built-in function is a function that is pre-defined in the Python language and is readily available for use without requiring any additional steps. These functions are part of the Python standard library and provide commonly used functionality. On the other hand, a user-defined function is created by the programmer to fulfill specific requirements or to encapsulate a sequence of tasks into a reusable block of code.\n",
    "\n",
    "Here's an example of a built-in function:"
   ]
  },
  {
   "cell_type": "code",
   "execution_count": 1,
   "metadata": {},
   "outputs": [
    {
     "name": "stdout",
     "output_type": "stream",
     "text": [
      "5\n"
     ]
    }
   ],
   "source": [
    "# Example of a built-in function: len()\n",
    "my_list = [1, 2, 3, 4, 5]\n",
    "length = len(my_list)\n",
    "print(length)"
   ]
  },
  {
   "attachments": {},
   "cell_type": "markdown",
   "metadata": {},
   "source": [
    "In the above example, the len() function is a built-in function that returns the length of a sequence, such as a list. It calculates the number of elements in the my_list and assigns the result to the length variable. The print() function is another example of a built-in function that displays the value of length on the console.\n",
    "\n",
    "Now let's see an example of a user-defined function:"
   ]
  },
  {
   "cell_type": "code",
   "execution_count": 2,
   "metadata": {},
   "outputs": [
    {
     "name": "stdout",
     "output_type": "stream",
     "text": [
      "15\n"
     ]
    }
   ],
   "source": [
    "# Example of a user-defined function: calculate_area()\n",
    "def calculate_area(length, width):\n",
    "    area = length * width\n",
    "    return area\n",
    "\n",
    "result = calculate_area(5, 3)\n",
    "print(result)"
   ]
  },
  {
   "attachments": {},
   "cell_type": "markdown",
   "metadata": {},
   "source": [
    "In the above example, the calculate_area() function is a user-defined function that takes two parameters, length and width, and calculates the area by multiplying them. The calculated area is then returned using the return statement. The function is invoked with arguments 5 and 3, and the result is assigned to the result variable. Finally, the value of result is printed on the console.\n",
    "\n",
    "To summarize, built-in functions are provided by Python, readily available for use, and cover a wide range of functionalities, while user-defined functions are created by programmers to fulfill specific requirements and encapsulate reusable blocks of code."
   ]
  },
  {
   "attachments": {},
   "cell_type": "markdown",
   "metadata": {},
   "source": [
    "2. How can you pass arguments to a function in Python? Explain the difference between positional arguments and keyword arguments."
   ]
  },
  {
   "attachments": {},
   "cell_type": "markdown",
   "metadata": {},
   "source": [
    "Ans2. In Python, you can pass arguments to a function by specifying them within the parentheses when defining or calling the function. There are two ways to pass arguments: positional arguments and keyword arguments.\n",
    "\n",
    "Positional Arguments:\n",
    "Positional arguments are passed to a function based on their position or order. The arguments are mapped to the function parameters in the order they are provided. The number and order of the arguments must match the number and order of the parameters defined in the function.\n",
    "\n",
    "Here's an example of a function that takes two positional arguments:"
   ]
  },
  {
   "cell_type": "code",
   "execution_count": 46,
   "metadata": {},
   "outputs": [
    {
     "name": "stdout",
     "output_type": "stream",
     "text": [
      "8\n"
     ]
    }
   ],
   "source": [
    "def add_numbers(a, b):\n",
    "    return a + b\n",
    "\n",
    "result = add_numbers(5, 3)\n",
    "print(result)  # Output: 8"
   ]
  },
  {
   "attachments": {},
   "cell_type": "markdown",
   "metadata": {},
   "source": [
    "In this example, the arguments 5 and 3 are passed to the function add_numbers in the same order as the parameters a and b. The function returns their sum, which is 8.\n",
    "\n",
    "Keyword Arguments:\n",
    "Keyword arguments are passed to a function using their corresponding parameter names. Instead of relying on the order, you explicitly mention the parameter names followed by the argument values. This allows you to pass arguments to a function in any order and even skip some arguments if they have default values.\n",
    "\n",
    "Here's an example using keyword arguments:"
   ]
  },
  {
   "cell_type": "code",
   "execution_count": 54,
   "metadata": {},
   "outputs": [
    {
     "name": "stdout",
     "output_type": "stream",
     "text": [
      "Hello, Alice! How are you?\n"
     ]
    }
   ],
   "source": [
    "def greet(name, message):\n",
    "    print(f\"Hello, {name}! {message}\")\n",
    "\n",
    "greet(name=\"Alice\", message=\"How are you?\")"
   ]
  },
  {
   "attachments": {},
   "cell_type": "markdown",
   "metadata": {},
   "source": [
    "In this example, the arguments are passed using their respective parameter names. The function greet prints a personalized message by using the provided name and message.\n",
    "\n",
    "You can also mix positional and keyword arguments, but positional arguments must come before keyword arguments."
   ]
  },
  {
   "cell_type": "code",
   "execution_count": 55,
   "metadata": {},
   "outputs": [
    {
     "name": "stdout",
     "output_type": "stream",
     "text": [
      "90.0\n"
     ]
    }
   ],
   "source": [
    "def calculate_total(price, tax_rate, discount=0):\n",
    "    total = price + (price * tax_rate) - discount\n",
    "    return total\n",
    "\n",
    "result = calculate_total(100, 0.1, discount=20)\n",
    "print(result)  # Output: 90.0"
   ]
  },
  {
   "attachments": {},
   "cell_type": "markdown",
   "metadata": {},
   "source": [
    "In this example, price and tax_rate are positional arguments, while discount is a keyword argument with a default value of 0. We pass the first two arguments positionally and specify the discount keyword argument explicitly.\n",
    "\n",
    "Keyword arguments are particularly useful when a function has many parameters or when you want to make your code more readable by explicitly stating the arguments' purpose. Additionally, they allow you to provide default values to some arguments, making them optional to pass."
   ]
  },
  {
   "attachments": {},
   "cell_type": "markdown",
   "metadata": {},
   "source": [
    "3. What is the purpose of the return statement in a function? Can a function have multiple return statements? Explain with an example"
   ]
  },
  {
   "attachments": {},
   "cell_type": "markdown",
   "metadata": {},
   "source": [
    "Ans3.The purpose of the return statement in a function is to specify the value that the function should produce as its output. When a return statement is encountered in a function, the function immediately exits, and the specified value is returned to the caller.\n",
    "\n",
    "Yes, a function can have multiple return statements. When a return statement is executed, the function terminates and returns the specified value. Having multiple return statements allows you to conditionally return different values based on certain conditions within the function.\n",
    "\n",
    "Here's an example to illustrate this:"
   ]
  },
  {
   "cell_type": "code",
   "execution_count": 56,
   "metadata": {},
   "outputs": [],
   "source": [
    "def get_grade(score):\n",
    "    if score >= 90:\n",
    "        return \"A\"\n",
    "    elif score >= 80:\n",
    "        return \"B\"\n",
    "    elif score >= 70:\n",
    "        return \"C\"\n",
    "    elif score >= 60:\n",
    "        return \"D\"\n",
    "    else:\n",
    "        return \"F\""
   ]
  },
  {
   "attachments": {},
   "cell_type": "markdown",
   "metadata": {},
   "source": [
    "In this example, we have a function called get_grade that takes a score as an argument. Depending on the value of the score, the function returns a corresponding grade. If the score is 90 or above, it returns \"A\". If the score is between 80 and 89, it returns \"B\", and so on.\n",
    "\n",
    "The multiple return statements in this function allow us to exit the function and return the appropriate grade based on the condition that matches the score value. Without these return statements, the function wouldn't be able to provide different output based on different conditions."
   ]
  },
  {
   "attachments": {},
   "cell_type": "markdown",
   "metadata": {},
   "source": [
    "4. What are lambda functions in Python? How are they different from regular functions? Provide an example where a lambda function can be useful."
   ]
  },
  {
   "attachments": {},
   "cell_type": "markdown",
   "metadata": {},
   "source": [
    "\n",
    "Ans4. In Python, lambda functions, also known as anonymous functions, are a way to create small, one-line functions without explicitly defining them using the def keyword. They are called \"lambda\" functions because they are based on lambda calculus, a formal system in mathematical logic.\n",
    "\n",
    "Here's the general syntax of a lambda function in Python:"
   ]
  },
  {
   "cell_type": "code",
   "execution_count": 57,
   "metadata": {},
   "outputs": [
    {
     "data": {
      "text/plain": [
       "<function __main__.<lambda>(arguments)>"
      ]
     },
     "execution_count": 57,
     "metadata": {},
     "output_type": "execute_result"
    }
   ],
   "source": [
    "lambda arguments: expression"
   ]
  },
  {
   "attachments": {},
   "cell_type": "markdown",
   "metadata": {},
   "source": [
    "Lambda functions can take any number of arguments but must evaluate to a single expression. When the lambda function is invoked, it returns the result of the expression.\n",
    "\n",
    "Lambda functions are different from regular functions in a few ways:\n",
    "\n",
    "1.Syntax: Lambda functions use the lambda keyword instead of def to define the function.\n",
    "\n",
    "2.Size and scope: Lambda functions are typically small and are often used where a function is needed for a short period or as an argument to a higher-order function.\n",
    "\n",
    "3.Nameless: Lambda functions are anonymous, meaning they don't have a name. They are usually assigned to variables or used directly as function arguments.\n",
    "\n",
    "Here's an example to illustrate the usage of a lambda function:"
   ]
  },
  {
   "cell_type": "code",
   "execution_count": 58,
   "metadata": {},
   "outputs": [
    {
     "name": "stdout",
     "output_type": "stream",
     "text": [
      "8\n",
      "8\n"
     ]
    }
   ],
   "source": [
    "# Regular function to add two numbers\n",
    "def add_numbers(x, y):\n",
    "    return x + y\n",
    "\n",
    "# Lambda function to add two numbers\n",
    "add_lambda = lambda x, y: x + y\n",
    "\n",
    "# Using the regular function\n",
    "result_regular = add_numbers(3, 5)\n",
    "print(result_regular)  # Output: 8\n",
    "\n",
    "# Using the lambda function\n",
    "result_lambda = add_lambda(3, 5)\n",
    "print(result_lambda)  # Output: 8"
   ]
  },
  {
   "attachments": {},
   "cell_type": "markdown",
   "metadata": {},
   "source": [
    "In this example, we have a regular function add_numbers that takes two arguments x and y and returns their sum. We also have a lambda function add_lambda that performs the same addition operation. Both the regular function and the lambda function produce the same result when invoked with the same arguments.\n",
    "\n",
    "Lambda functions are particularly useful in scenarios where we need to pass a simple function as an argument to another function. For example, let's say we have a list of numbers and we want to sort them based on their squares. We can use the sorted() function along with a lambda function to achieve this:"
   ]
  },
  {
   "cell_type": "code",
   "execution_count": 59,
   "metadata": {},
   "outputs": [
    {
     "name": "stdout",
     "output_type": "stream",
     "text": [
      "[1, 2, 4, 5, 7]\n"
     ]
    }
   ],
   "source": [
    "numbers = [4, 2, 7, 1, 5]\n",
    "sorted_numbers = sorted(numbers, key=lambda x: x ** 2)\n",
    "print(sorted_numbers)  # Output: [1, 2, 4, 5, 7]"
   ]
  },
  {
   "attachments": {},
   "cell_type": "markdown",
   "metadata": {},
   "source": [
    "In this case, the lambda function lambda x: x ** 2 is used as the key argument to the sorted() function. It specifies that the sorting should be based on the squares of the numbers in the list. The result is a sorted list where the numbers are arranged in ascending order of their squares."
   ]
  },
  {
   "attachments": {},
   "cell_type": "markdown",
   "metadata": {},
   "source": [
    "5. How does the concept of \"scope\" apply to functions in Python? Explain the difference between local scope and global scope."
   ]
  },
  {
   "attachments": {},
   "cell_type": "markdown",
   "metadata": {},
   "source": [
    "Ans5.In Python, the concept of \"scope\" refers to the visibility and accessibility of variables within different parts of a program. It determines where and how variables can be accessed and modified. Python has two main types of scope: local scope and global scope.\n",
    "\n",
    "Local Scope:\n",
    "\n",
    "Local scope refers to variables that are defined within a specific function or block of code. These variables are only accessible within that function or block.\n",
    "Local variables are created when the function or block is executed and cease to exist once the function or block is completed.\n",
    "Local variables cannot be accessed or modified outside of their defined scope.\n",
    "If a variable with the same name as a local variable is used outside of the local scope, it refers to a different variable altogether.\n",
    "\n",
    "Global Scope:\n",
    "\n",
    "Global scope refers to variables that are defined outside of any function or block, making them accessible throughout the entire program.\n",
    "Global variables can be accessed and modified by any part of the program, including inside functions.\n",
    "Global variables are created when they are first assigned a value or when they are explicitly declared as global within a function.\n",
    "If a variable is referenced within a function without being explicitly declared as global, Python assumes it to be a local variable within that function.\n",
    "Changes made to global variables inside a function will persist outside of the function, affecting their values in the global scope.\n",
    "\n",
    "Here's an example to illustrate the difference between local and global scope:"
   ]
  },
  {
   "cell_type": "code",
   "execution_count": 60,
   "metadata": {},
   "outputs": [
    {
     "name": "stdout",
     "output_type": "stream",
     "text": [
      "20\n",
      "10\n",
      "10\n"
     ]
    },
    {
     "ename": "NameError",
     "evalue": "name 'local_var' is not defined",
     "output_type": "error",
     "traceback": [
      "\u001b[1;31m---------------------------------------------------------------------------\u001b[0m",
      "\u001b[1;31mNameError\u001b[0m                                 Traceback (most recent call last)",
      "Cell \u001b[1;32mIn[60], line 12\u001b[0m\n\u001b[0;32m     10\u001b[0m my_function()\n\u001b[0;32m     11\u001b[0m \u001b[39mprint\u001b[39m(global_var)       \u001b[39m# Output: 10\u001b[39;00m\n\u001b[1;32m---> 12\u001b[0m \u001b[39mprint\u001b[39m(local_var)        \u001b[39m# Error: NameError: name 'local_var' is not defined\u001b[39;00m\n",
      "\u001b[1;31mNameError\u001b[0m: name 'local_var' is not defined"
     ]
    }
   ],
   "source": [
    "# Global scope\n",
    "global_var = 10\n",
    "\n",
    "def my_function():\n",
    "    # Local scope\n",
    "    local_var = 20\n",
    "    print(local_var)    # Output: 20\n",
    "    print(global_var)   # Output: 10\n",
    "\n",
    "my_function()\n",
    "print(global_var)       # Output: 10\n",
    "print(local_var)        # Error: NameError: name 'local_var' is not defined"
   ]
  },
  {
   "attachments": {},
   "cell_type": "markdown",
   "metadata": {},
   "source": [
    "In the example, global_var is a global variable that can be accessed both inside and outside the my_function() function. On the other hand, local_var is a local variable defined within the function and can only be accessed inside the function. Trying to access local_var outside the function will result in a NameError because it is not defined in the global scope."
   ]
  },
  {
   "attachments": {},
   "cell_type": "markdown",
   "metadata": {},
   "source": [
    "6. How can you use the \"return\" statement in a Python function to return multiple values?"
   ]
  },
  {
   "attachments": {},
   "cell_type": "markdown",
   "metadata": {},
   "source": [
    "Ans6. In Python, the return statement is typically used to return a single value from a function. However, you can return multiple values by using various data structures such as tuples, lists, or dictionaries. Here are a few examples:"
   ]
  },
  {
   "attachments": {},
   "cell_type": "markdown",
   "metadata": {},
   "source": [
    "1.Returning a tuple:"
   ]
  },
  {
   "cell_type": "code",
   "execution_count": null,
   "metadata": {},
   "outputs": [
    {
     "name": "stdout",
     "output_type": "stream",
     "text": [
      "(10, 20)\n",
      "10\n",
      "20\n"
     ]
    }
   ],
   "source": [
    "def get_coordinates():\n",
    "    x = 10\n",
    "    y = 20\n",
    "    return x, y\n",
    "\n",
    "result = get_coordinates()\n",
    "print(result)  # Output: (10, 20)\n",
    "x_value, y_value = get_coordinates()\n",
    "print(x_value)  # Output: 10\n",
    "print(y_value)  # Output: 20"
   ]
  },
  {
   "attachments": {},
   "cell_type": "markdown",
   "metadata": {},
   "source": [
    "2.Returning a list:"
   ]
  },
  {
   "cell_type": "code",
   "execution_count": null,
   "metadata": {},
   "outputs": [
    {
     "name": "stdout",
     "output_type": "stream",
     "text": [
      "[10, 20]\n",
      "10\n",
      "20\n"
     ]
    }
   ],
   "source": [
    "def get_values():\n",
    "    value1 = 10\n",
    "    value2 = 20\n",
    "    return [value1, value2]\n",
    "\n",
    "result = get_values()\n",
    "print(result)  # Output: [10, 20]\n",
    "value1, value2 = get_values()\n",
    "print(value1)  # Output: 10\n",
    "print(value2)  # Output: 20"
   ]
  },
  {
   "attachments": {},
   "cell_type": "markdown",
   "metadata": {},
   "source": [
    "3.Returning a dictionary:"
   ]
  },
  {
   "cell_type": "code",
   "execution_count": null,
   "metadata": {},
   "outputs": [
    {
     "name": "stdout",
     "output_type": "stream",
     "text": [
      "{'name': 'John', 'age': 30}\n",
      "John\n",
      "30\n"
     ]
    }
   ],
   "source": [
    "def get_info():\n",
    "    name = \"John\"\n",
    "    age = 30\n",
    "    return {'name': name, 'age': age}\n",
    "\n",
    "result = get_info()\n",
    "print(result)  # Output: {'name': 'John', 'age': 30}\n",
    "name = get_info()['name']\n",
    "age = get_info()['age']\n",
    "print(name)  # Output: John\n",
    "print(age)  # Output: 30"
   ]
  },
  {
   "attachments": {},
   "cell_type": "markdown",
   "metadata": {},
   "source": [
    "By using these data structures, you can effectively return multiple values from a Python function using the return statement."
   ]
  },
  {
   "attachments": {},
   "cell_type": "markdown",
   "metadata": {},
   "source": [
    "7. What is the difference between the \"pass by value\" and \"pass by reference\" concepts when it\n",
    "comes to function arguments in Python?"
   ]
  },
  {
   "attachments": {},
   "cell_type": "markdown",
   "metadata": {},
   "source": [
    "Ans7. In Python, the concepts of \"pass by value\" and \"pass by reference\" can be a bit confusing because Python actually uses a different approach called \"passing arguments by object reference.\" Let's explore this concept in more detail:\n",
    "\n",
    "Passing by value: In programming languages that use pass by value, a copy of the value is made and passed to the function. Any modifications made to the parameter inside the function do not affect the original value outside the function. This means that changes to the parameter are local to the function.\n",
    "\n",
    "Passing by reference: In programming languages that use pass by reference, a reference or memory address of the variable is passed to the function. This means that changes made to the parameter inside the function affect the original value outside the function. Modifications to the parameter are reflected globally.\n",
    "\n",
    "In Python, the situation is a bit different:\n",
    "\n",
    "Python uses a concept called \"passing arguments by object reference.\" When a function is called, the references to the objects are passed to the function. However, these references themselves are passed by value. This means that the function receives a copy of the reference, but it still refers to the same underlying object.\n",
    "\n",
    "To understand this better, let's consider some examples:"
   ]
  },
  {
   "cell_type": "code",
   "execution_count": null,
   "metadata": {},
   "outputs": [
    {
     "name": "stdout",
     "output_type": "stream",
     "text": [
      "[1, 2, 3, 4]\n",
      "Hello\n",
      "5\n"
     ]
    }
   ],
   "source": [
    "# Example 1: Pass by object reference (mutable object)\n",
    "def modify_list(lst):\n",
    "    lst.append(4)  # Modifying the list inside the function\n",
    "\n",
    "my_list = [1, 2, 3]\n",
    "modify_list(my_list)\n",
    "print(my_list)  # Output: [1, 2, 3, 4]\n",
    "\n",
    "# Example 2: Pass by object reference (immutable object)\n",
    "def modify_string(s):\n",
    "    s = s + \" World\"  # Reassigning the reference inside the function\n",
    "\n",
    "my_string = \"Hello\"\n",
    "modify_string(my_string)\n",
    "print(my_string)  # Output: Hello\n",
    "\n",
    "# Example 3: Pass by value (immutable object)\n",
    "def modify_number(num):\n",
    "    num = num + 1  # Reassigning the reference inside the function\n",
    "\n",
    "my_number = 5\n",
    "modify_number(my_number)\n",
    "print(my_number)  # Output: 5"
   ]
  },
  {
   "attachments": {},
   "cell_type": "markdown",
   "metadata": {},
   "source": [
    "In Example 1, we pass a list to the function, and modifications made to the list inside the function are reflected outside the function. This demonstrates the behavior of passing mutable objects by object reference.\n",
    "\n",
    "In Example 2, we pass a string to the function, but when we reassign the reference s inside the function, it creates a new reference to a new string. This does not affect the original string outside the function. This showcases the behavior of passing immutable objects by object reference.\n",
    "\n",
    "In Example 3, we pass a number to the function, but when we reassign the reference num inside the function, it creates a new reference to a new number. This does not affect the original number outside the function. Again, this demonstrates the behavior of passing immutable objects by object reference.\n",
    "\n",
    "In summary, Python uses a form of \"pass by object reference\" where the references themselves are passed by value. Mutable objects can be modified inside the function and reflect changes globally, while immutable objects cannot be modified inside the function in a way that affects the original object outside the function."
   ]
  },
  {
   "attachments": {},
   "cell_type": "markdown",
   "metadata": {},
   "source": [
    "8. Create a function that can intake integer or decimal value and do following operations:\n",
    "\n",
    "a. Logarithmic function (log x)\n",
    "\n",
    "b. Exponential function (exp(x))\n",
    "\n",
    "c. Power function with base 2 (2x)\n",
    "\n",
    "d. Square root"
   ]
  },
  {
   "attachments": {},
   "cell_type": "markdown",
   "metadata": {},
   "source": [
    "Ans8. Here's a Python function that can perform the requested operations on an input value:"
   ]
  },
  {
   "cell_type": "code",
   "execution_count": 61,
   "metadata": {},
   "outputs": [],
   "source": [
    "import math\n",
    "\n",
    "def perform_operations(value):\n",
    "    result = {}\n",
    "\n",
    "    # Logarithmic function (log x)\n",
    "    result['logarithm'] = math.log(value)\n",
    "\n",
    "    # Exponential function (exp(x))\n",
    "    result['exponential'] = math.exp(value)\n",
    "\n",
    "    # Power function with base 2 (2x)\n",
    "    result['power'] = math.pow(2, value)\n",
    "\n",
    "    # Square root\n",
    "    result['square_root'] = math.sqrt(value)\n",
    "\n",
    "    return result"
   ]
  },
  {
   "attachments": {},
   "cell_type": "markdown",
   "metadata": {},
   "source": [
    "You can use this function to perform the operations on an input value. Here's an example usage:"
   ]
  },
  {
   "cell_type": "code",
   "execution_count": 62,
   "metadata": {},
   "outputs": [
    {
     "name": "stdout",
     "output_type": "stream",
     "text": [
      "{'logarithm': 1.5040773967762742, 'exponential': 90.01713130052181, 'power': 22.627416997969522, 'square_root': 2.1213203435596424}\n"
     ]
    }
   ],
   "source": [
    "value = 4.5\n",
    "operations_result = perform_operations(value)\n",
    "print(operations_result)"
   ]
  },
  {
   "attachments": {},
   "cell_type": "markdown",
   "metadata": {},
   "source": [
    "Output:"
   ]
  },
  {
   "cell_type": "code",
   "execution_count": 63,
   "metadata": {},
   "outputs": [
    {
     "data": {
      "text/plain": [
       "{'logarithm': 1.5040773967762742,\n",
       " 'exponential': 90.01713130052185,\n",
       " 'power': 22.627416997969522,\n",
       " 'square_root': 2.1213203435596424}"
      ]
     },
     "execution_count": 63,
     "metadata": {},
     "output_type": "execute_result"
    }
   ],
   "source": [
    "{\n",
    "    'logarithm': 1.5040773967762742,\n",
    "    'exponential': 90.01713130052186,\n",
    "    'power': 22.627416997969522,\n",
    "    'square_root': 2.1213203435596424\n",
    "}"
   ]
  },
  {
   "attachments": {},
   "cell_type": "markdown",
   "metadata": {},
   "source": [
    "Note that the math module is used in this example for mathematical functions like logarithm, exponential, power, and square root."
   ]
  },
  {
   "attachments": {},
   "cell_type": "markdown",
   "metadata": {},
   "source": [
    "9. Create a function that takes a full name as an argument and returns first name and last name."
   ]
  },
  {
   "attachments": {},
   "cell_type": "markdown",
   "metadata": {},
   "source": [
    "Ans9.Certainly! Here's an example of a function in Python that takes a full name as an argument and returns the first name and last name:"
   ]
  },
  {
   "cell_type": "code",
   "execution_count": 64,
   "metadata": {},
   "outputs": [],
   "source": [
    "def get_first_and_last_name(full_name):\n",
    "    names = full_name.split()\n",
    "    first_name = names[0]\n",
    "    last_name = names[-1]\n",
    "    return first_name, last_name"
   ]
  },
  {
   "attachments": {},
   "cell_type": "markdown",
   "metadata": {},
   "source": [
    "You can use this function by passing a full name as a string, and it will return a tuple with the first name and last name. Here's an example usage:"
   ]
  },
  {
   "cell_type": "code",
   "execution_count": 65,
   "metadata": {},
   "outputs": [
    {
     "name": "stdout",
     "output_type": "stream",
     "text": [
      "First Name: John\n",
      "Last Name: Doe\n"
     ]
    }
   ],
   "source": [
    "full_name = \"John Doe\"\n",
    "first_name, last_name = get_first_and_last_name(full_name)\n",
    "print(\"First Name:\", first_name)\n",
    "print(\"Last Name:\", last_name)"
   ]
  },
  {
   "attachments": {},
   "cell_type": "markdown",
   "metadata": {},
   "source": [
    "Output:"
   ]
  },
  {
   "attachments": {},
   "cell_type": "markdown",
   "metadata": {},
   "source": [
    "First Name: John\n",
    "\n",
    "Last Name: Doe"
   ]
  },
  {
   "attachments": {},
   "cell_type": "markdown",
   "metadata": {},
   "source": [
    "Note that this function assumes that the full name consists of only the first name and last name, separated by a space. If there are additional parts like middle names or titles, they will be ignored."
   ]
  }
 ],
 "metadata": {
  "kernelspec": {
   "display_name": "Python 3",
   "language": "python",
   "name": "python3"
  },
  "language_info": {
   "codemirror_mode": {
    "name": "ipython",
    "version": 3
   },
   "file_extension": ".py",
   "mimetype": "text/x-python",
   "name": "python",
   "nbconvert_exporter": "python",
   "pygments_lexer": "ipython3",
   "version": "3.11.3"
  },
  "orig_nbformat": 4
 },
 "nbformat": 4,
 "nbformat_minor": 2
}
