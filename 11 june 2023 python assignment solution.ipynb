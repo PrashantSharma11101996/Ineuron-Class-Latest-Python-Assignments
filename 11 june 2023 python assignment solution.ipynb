{
 "cells": [
  {
   "attachments": {},
   "cell_type": "markdown",
   "metadata": {},
   "source": [
    "11 june 2023 Python assignment"
   ]
  },
  {
   "attachments": {},
   "cell_type": "markdown",
   "metadata": {},
   "source": [
    "1. What is a lambda function in Python, and how does it differ from a regular function?"
   ]
  },
  {
   "attachments": {},
   "cell_type": "markdown",
   "metadata": {},
   "source": [
    "Ans1.In Python, a lambda function, also known as an anonymous function, is a way to create small, one-line functions without a formal function definition. It is defined using the lambda keyword followed by a list of arguments, a colon (:), and an expression that represents the function's return value. Here's the general syntax:"
   ]
  },
  {
   "cell_type": "code",
   "execution_count": 33,
   "metadata": {},
   "outputs": [
    {
     "data": {
      "text/plain": [
       "<function __main__.<lambda>(arguments)>"
      ]
     },
     "execution_count": 33,
     "metadata": {},
     "output_type": "execute_result"
    }
   ],
   "source": [
    "lambda arguments: expression"
   ]
  },
  {
   "attachments": {},
   "cell_type": "markdown",
   "metadata": {},
   "source": [
    "Lambda functions are typically used when you need a simple function for a short duration and don't want to define a named function using the def keyword. Here's an example to illustrate the syntax and usage:"
   ]
  },
  {
   "cell_type": "code",
   "execution_count": 34,
   "metadata": {},
   "outputs": [
    {
     "name": "stdout",
     "output_type": "stream",
     "text": [
      "8\n",
      "8\n"
     ]
    }
   ],
   "source": [
    "# Regular function\n",
    "def add(x, y):\n",
    "    return x + y\n",
    "\n",
    "result = add(3, 5)\n",
    "print(result)  # Output: 8\n",
    "\n",
    "# Equivalent lambda function\n",
    "add_lambda = lambda x, y: x + y\n",
    "\n",
    "result_lambda = add_lambda(3, 5)\n",
    "print(result_lambda)  # Output: 8"
   ]
  },
  {
   "attachments": {},
   "cell_type": "markdown",
   "metadata": {},
   "source": [
    "In this example, both the regular function add() and the lambda function add_lambda perform the same addition operation.\n",
    "\n",
    "The key differences between a lambda function and a regular function are as follows:\n",
    "\n",
    "1.Syntax: Lambda functions are defined using the lambda keyword, whereas regular functions are defined using the def keyword.\n",
    "\n",
    "2.Naming: Lambda functions are anonymous, meaning they don't have a name associated with them. They are typically assigned to a variable for later use. Regular functions, on the other hand, have a name that is used to call them.\n",
    "\n",
    "3.Size and Complexity: Lambda functions are generally used for small, concise tasks and are limited to a single expression. Regular functions can be of any size and can contain multiple statements and complex logic.\n",
    "\n",
    "4.Return Statement: In a lambda function, the result of the expression is automatically returned. In regular functions, you need to explicitly use the return statement to return a value.\n",
    "\n",
    "Lambda functions are commonly used in functional programming paradigms, where they can be passed as arguments to higher-order functions like map(), filter(), and reduce(), or used in situations where a small, disposable function is required."
   ]
  },
  {
   "attachments": {},
   "cell_type": "markdown",
   "metadata": {},
   "source": [
    "2. Can a lambda function in Python have multiple arguments? If yes, how can you define and use\n",
    "them?"
   ]
  },
  {
   "attachments": {},
   "cell_type": "markdown",
   "metadata": {},
   "source": [
    "Ans2.Yes, a lambda function in Python can have multiple arguments. Lambda functions are anonymous functions that can take any number of arguments, but they are typically used for simpler and shorter functions.\n",
    "\n",
    "To define a lambda function with multiple arguments, you can list the arguments separated by commas after the colon. Here's an example:"
   ]
  },
  {
   "cell_type": "code",
   "execution_count": 35,
   "metadata": {},
   "outputs": [],
   "source": [
    "addition = lambda x, y: x + y"
   ]
  },
  {
   "attachments": {},
   "cell_type": "markdown",
   "metadata": {},
   "source": [
    "In this example, the lambda function addition takes two arguments x and y, and it returns their sum. You can then use this lambda function like any other function:"
   ]
  },
  {
   "cell_type": "code",
   "execution_count": 36,
   "metadata": {},
   "outputs": [
    {
     "name": "stdout",
     "output_type": "stream",
     "text": [
      "7\n"
     ]
    }
   ],
   "source": [
    "result = addition(3, 4)\n",
    "print(result)  # Output: 7"
   ]
  },
  {
   "attachments": {},
   "cell_type": "markdown",
   "metadata": {},
   "source": [
    "In this case, the lambda function is called with arguments 3 and 4, and it returns the sum 7, which is then printed.\n",
    "\n",
    "Lambda functions can have any number of arguments. Here's an example with three arguments:"
   ]
  },
  {
   "cell_type": "code",
   "execution_count": 37,
   "metadata": {},
   "outputs": [
    {
     "name": "stdout",
     "output_type": "stream",
     "text": [
      "24\n"
     ]
    }
   ],
   "source": [
    "multiply = lambda x, y, z: x * y * z\n",
    "result = multiply(2, 3, 4)\n",
    "print(result)  # Output: 24"
   ]
  },
  {
   "attachments": {},
   "cell_type": "markdown",
   "metadata": {},
   "source": [
    "In this example, the lambda function multiply takes three arguments x, y, and z, and it returns their product. The function is called with arguments 2, 3, and 4, and it returns the product 24, which is then printed."
   ]
  },
  {
   "attachments": {},
   "cell_type": "markdown",
   "metadata": {},
   "source": [
    "3. How are lambda functions typically used in Python? Provide an example use case."
   ]
  },
  {
   "attachments": {},
   "cell_type": "markdown",
   "metadata": {},
   "source": [
    "\n",
    "Ans3.Lambda functions, also known as anonymous functions, are small, anonymous functions in Python that can be created without a function name using the lambda keyword. They are typically used in situations where a short and simple function is needed, and defining a regular function would be unnecessary or inconvenient.\n",
    "\n",
    "Here's an example use case to illustrate how lambda functions can be used in Python:"
   ]
  },
  {
   "cell_type": "code",
   "execution_count": 38,
   "metadata": {},
   "outputs": [
    {
     "name": "stdout",
     "output_type": "stream",
     "text": [
      "[(3, 1), (4, 2), (2, 3), (1, 5)]\n"
     ]
    }
   ],
   "source": [
    "# Example 1: Sorting a list of tuples based on the second element\n",
    "\n",
    "data = [(4, 2), (3, 1), (1, 5), (2, 3)]\n",
    "sorted_data = sorted(data, key=lambda x: x[1])\n",
    "print(sorted_data)"
   ]
  },
  {
   "attachments": {},
   "cell_type": "markdown",
   "metadata": {},
   "source": [
    "In this example, we have a list of tuples data, where each tuple contains two elements. We want to sort this list based on the second element of each tuple. To achieve this, we can use the sorted() function and provide a lambda function as the key parameter. The lambda function lambda x: x[1] specifies that the sorting should be based on the second element of each tuple (x[1]). After sorting, the sorted list is assigned to sorted_data and printed, resulting in [(3, 1), (4, 2), (2, 3), (1, 5)].\n",
    "\n",
    "Lambda functions are commonly used in scenarios where a simple function is needed as an argument to other functions like map(), filter(), or reduce(). They provide a concise way to define quick functions without the need for a formal function definition."
   ]
  },
  {
   "attachments": {},
   "cell_type": "markdown",
   "metadata": {},
   "source": [
    "4. What are the advantages and limitations of lambda functions compared to regular functions in\n",
    "Python?"
   ]
  },
  {
   "attachments": {},
   "cell_type": "markdown",
   "metadata": {},
   "source": [
    "Ans4. Lambda functions, also known as anonymous functions, have several advantages and limitations compared to regular functions in Python. Here are some of them:\n",
    "\n",
    "Advantages of Lambda Functions:\n",
    "\n",
    "1.Concise Syntax: Lambda functions allow you to write functions in a more concise manner compared to regular functions. They are typically defined in a single line and can be used in situations where a full-fledged function would be overkill.\n",
    "\n",
    "2.Inline Usage: Lambda functions are often used in scenarios where you need a small function on-the-fly and don't want to define a separate function using the def keyword. They can be directly used as arguments to higher-order functions like map(), filter(), and reduce().\n",
    "\n",
    "3.Improved Readability: In some cases, lambda functions can improve the readability of the code by keeping the logic closer to the point of use. For simple, one-time operations, using a lambda function can make the code more readable compared to defining a separate named function.\n",
    "\n",
    "Limitations of Lambda Functions:\n",
    "\n",
    "1.Single Expression: Lambda functions are limited to a single expression. They can't contain multiple statements or include control flow structures like if-else statements or loops. They are designed for simple and short operations.\n",
    "\n",
    "2.Lack of Name: Lambda functions are anonymous, meaning they don't have a name associated with them. This can make debugging and error tracking more challenging since error messages will refer to the lambda function as \"<lambda>\".\n",
    "\n",
    "3.Limited Functionality: While lambda functions can handle simple operations efficiently, they are not suitable for complex or lengthy operations. Regular functions can include multiple lines of code, have named parameters, and provide better code organization and reusability.\n",
    "\n",
    "4.Reduced Readability: While lambda functions can improve readability in some cases, they can also make the code harder to understand if they are used extensively or for complex operations. Code readability can suffer if lambda functions are used excessively or if their purpose is not immediately clear.\n",
    "\n",
    "In summary, lambda functions offer a concise syntax and are useful for simple, one-time operations. However, they have limitations in terms of functionality, readability, and debugging, which may make regular functions a better choice for more complex tasks or when code organization and reusability are important."
   ]
  },
  {
   "attachments": {},
   "cell_type": "markdown",
   "metadata": {},
   "source": [
    "5. Are lambda functions in Python able to access variables defined outside of their own scope?\n",
    "Explain with an example"
   ]
  },
  {
   "attachments": {},
   "cell_type": "markdown",
   "metadata": {},
   "source": [
    "Ans5.Yes, lambda functions in Python are able to access variables defined outside of their own scope. This is possible because lambda functions have access to the surrounding lexical scope, including variables defined in the enclosing function or the global scope.\n",
    "\n",
    "Here's an example to demonstrate this behavior:"
   ]
  },
  {
   "cell_type": "code",
   "execution_count": 39,
   "metadata": {},
   "outputs": [
    {
     "name": "stdout",
     "output_type": "stream",
     "text": [
      "15\n"
     ]
    }
   ],
   "source": [
    "def outer_function():\n",
    "    x = 10\n",
    "\n",
    "    # Define a lambda function that accesses the variable 'x' from the outer scope\n",
    "    lambda_func = lambda y: x + y\n",
    "\n",
    "    return lambda_func\n",
    "\n",
    "# Call the outer_function to get the lambda function\n",
    "my_lambda = outer_function()\n",
    "\n",
    "# Call the lambda function and pass an argument\n",
    "result = my_lambda(5)\n",
    "\n",
    "print(result)  # Output: 15"
   ]
  },
  {
   "attachments": {},
   "cell_type": "markdown",
   "metadata": {},
   "source": [
    "In this example, the outer_function defines a variable x with a value of 10. Inside the outer_function, a lambda function lambda_func is defined, which takes an argument y and adds it to x. Even though x is defined in the outer scope of the lambda function, the lambda function can access and use the value of x.\n",
    "\n",
    "When we call outer_function(), it returns the lambda function lambda_func. We then assign it to the variable my_lambda. Later, we invoke my_lambda with an argument of 5, and it adds 5 to the value of x (which is 10) and returns the result 15.\n",
    "\n",
    "This example illustrates how lambda functions can access variables from their surrounding scope, allowing for concise and powerful functional programming constructs in Python."
   ]
  },
  {
   "attachments": {},
   "cell_type": "markdown",
   "metadata": {},
   "source": [
    "6. Write a lambda function to calculate the square of a given number."
   ]
  },
  {
   "attachments": {},
   "cell_type": "markdown",
   "metadata": {},
   "source": [
    "Ans6.Certainly! Here's a lambda function in Python to calculate the square of a given number:"
   ]
  },
  {
   "cell_type": "code",
   "execution_count": 40,
   "metadata": {},
   "outputs": [],
   "source": [
    "square = lambda num: num ** 2"
   ]
  },
  {
   "attachments": {},
   "cell_type": "markdown",
   "metadata": {},
   "source": [
    "You can use this lambda function to calculate the square of a number by calling it with the desired value, like this:"
   ]
  },
  {
   "cell_type": "code",
   "execution_count": 41,
   "metadata": {},
   "outputs": [
    {
     "name": "stdout",
     "output_type": "stream",
     "text": [
      "25\n"
     ]
    }
   ],
   "source": [
    "result = square(5)\n",
    "print(result)  # Output: 25"
   ]
  },
  {
   "attachments": {},
   "cell_type": "markdown",
   "metadata": {},
   "source": [
    "In the above example, the lambda function takes a parameter num and returns the square of num using the exponentiation operator (**)."
   ]
  },
  {
   "attachments": {},
   "cell_type": "markdown",
   "metadata": {},
   "source": [
    "7. Create a lambda function to find the maximum value in a list of integers."
   ]
  },
  {
   "attachments": {},
   "cell_type": "markdown",
   "metadata": {},
   "source": [
    "Ans7.Certainly! Here's an example of a lambda function in Python that finds the maximum value in a list of integers:"
   ]
  },
  {
   "cell_type": "code",
   "execution_count": 42,
   "metadata": {},
   "outputs": [
    {
     "name": "stdout",
     "output_type": "stream",
     "text": [
      "15\n"
     ]
    }
   ],
   "source": [
    "numbers = [5, 10, 3, 8, 15, 1]\n",
    "\n",
    "maximum = lambda lst: max(lst)\n",
    "\n",
    "print(maximum(numbers))"
   ]
  },
  {
   "attachments": {},
   "cell_type": "markdown",
   "metadata": {},
   "source": [
    "In this example, the lambda function maximum takes a list lst as its input and uses the built-in max() function to find the maximum value in the list. It then returns this maximum value.\n",
    "\n",
    "When you run this code, it will output 15, which is the maximum value in the numbers list. You can replace numbers with your own list of integers to find the maximum value in your list."
   ]
  },
  {
   "attachments": {},
   "cell_type": "markdown",
   "metadata": {},
   "source": [
    "8. Implement a lambda function to filter out all the even numbers from a list of integers."
   ]
  },
  {
   "attachments": {},
   "cell_type": "markdown",
   "metadata": {},
   "source": [
    "Ans8.Certainly! Here's an example of a lambda function in Python that filters out all the even numbers from a list of integers:"
   ]
  },
  {
   "cell_type": "code",
   "execution_count": 43,
   "metadata": {},
   "outputs": [
    {
     "name": "stdout",
     "output_type": "stream",
     "text": [
      "[1, 3, 5, 7, 9]\n"
     ]
    }
   ],
   "source": [
    "numbers = [1, 2, 3, 4, 5, 6, 7, 8, 9, 10]\n",
    "\n",
    "filtered_numbers = list(filter(lambda x: x % 2 != 0, numbers))\n",
    "\n",
    "print(filtered_numbers)"
   ]
  },
  {
   "attachments": {},
   "cell_type": "markdown",
   "metadata": {},
   "source": [
    "Output:"
   ]
  },
  {
   "cell_type": "code",
   "execution_count": 44,
   "metadata": {},
   "outputs": [
    {
     "data": {
      "text/plain": [
       "[1, 3, 5, 7, 9]"
      ]
     },
     "execution_count": 44,
     "metadata": {},
     "output_type": "execute_result"
    }
   ],
   "source": [
    "[1, 3, 5, 7, 9]"
   ]
  },
  {
   "attachments": {},
   "cell_type": "markdown",
   "metadata": {},
   "source": [
    "In this code, the filter() function is used along with a lambda function to iterate through the numbers list. The lambda function checks if each number (x) is not divisible by 2 (x % 2 != 0), which filters out the even numbers. Finally, the resulting filtered numbers are converted back to a list and printed."
   ]
  },
  {
   "attachments": {},
   "cell_type": "markdown",
   "metadata": {},
   "source": [
    "9. Write a lambda function to sort a list of strings in ascending order based on the length of each\n",
    "string.\n"
   ]
  },
  {
   "attachments": {},
   "cell_type": "markdown",
   "metadata": {},
   "source": [
    "\n",
    "Ans9.Sure! Here's a lambda function that sorts a list of strings in ascending order based on the length of each string:"
   ]
  },
  {
   "cell_type": "code",
   "execution_count": 45,
   "metadata": {},
   "outputs": [
    {
     "name": "stdout",
     "output_type": "stream",
     "text": [
      "['date', 'apple', 'banana', 'cherry', 'elderberry']\n"
     ]
    }
   ],
   "source": [
    "strings = [\"apple\", \"banana\", \"cherry\", \"date\", \"elderberry\"]\n",
    "\n",
    "sorted_strings = sorted(strings, key=lambda x: len(x))\n",
    "\n",
    "print(sorted_strings)"
   ]
  },
  {
   "attachments": {},
   "cell_type": "markdown",
   "metadata": {},
   "source": [
    "Output:"
   ]
  },
  {
   "cell_type": "code",
   "execution_count": 46,
   "metadata": {},
   "outputs": [
    {
     "data": {
      "text/plain": [
       "['date', 'apple', 'banana', 'cherry', 'elderberry']"
      ]
     },
     "execution_count": 46,
     "metadata": {},
     "output_type": "execute_result"
    }
   ],
   "source": [
    "['date', 'apple', 'banana', 'cherry', 'elderberry']"
   ]
  },
  {
   "attachments": {},
   "cell_type": "markdown",
   "metadata": {},
   "source": [
    "In this lambda function, key=lambda x: len(x) is used to define the sorting criterion. The len(x) expression calculates the length of each string, and the lambda function is used as the key to sort the list of strings based on their lengths in ascending order."
   ]
  },
  {
   "attachments": {},
   "cell_type": "markdown",
   "metadata": {},
   "source": [
    "10. Create a lambda function that takes two lists as input and returns a new list containing the\n",
    "common elements between the two lists."
   ]
  },
  {
   "attachments": {},
   "cell_type": "markdown",
   "metadata": {},
   "source": [
    "Ans10.Certainly! Here's an example of a lambda function in Python that takes two lists as input and returns a new list containing the common elements between the two lists:"
   ]
  },
  {
   "cell_type": "code",
   "execution_count": 47,
   "metadata": {},
   "outputs": [],
   "source": [
    "common_elements = lambda list1, list2: list(set(list1) & set(list2))"
   ]
  },
  {
   "attachments": {},
   "cell_type": "markdown",
   "metadata": {},
   "source": [
    "You can use this lambda function by calling it and passing in the two lists as arguments. It will return a new list containing the common elements found in both lists.\n",
    "\n",
    "Here's an example usage:"
   ]
  },
  {
   "cell_type": "code",
   "execution_count": 48,
   "metadata": {},
   "outputs": [
    {
     "name": "stdout",
     "output_type": "stream",
     "text": [
      "[4, 5]\n"
     ]
    }
   ],
   "source": [
    "list1 = [1, 2, 3, 4, 5]\n",
    "list2 = [4, 5, 6, 7, 8]\n",
    "\n",
    "result = common_elements(list1, list2)\n",
    "print(result)  # Output: [4, 5]"
   ]
  },
  {
   "attachments": {},
   "cell_type": "markdown",
   "metadata": {},
   "source": [
    "In this example, the common_elements lambda function is called with list1 and list2 as arguments, and it returns a new list [4, 5], which contains the common elements between the two lists."
   ]
  },
  {
   "attachments": {},
   "cell_type": "markdown",
   "metadata": {},
   "source": [
    "11. Write a recursive function to calculate the factorial of a given positive integer."
   ]
  },
  {
   "attachments": {},
   "cell_type": "markdown",
   "metadata": {},
   "source": [
    "Ans11.Certainly! Here's a recursive function in Python to calculate the factorial of a positive integer:"
   ]
  },
  {
   "cell_type": "code",
   "execution_count": 49,
   "metadata": {},
   "outputs": [],
   "source": [
    "def factorial(n):\n",
    "    if n == 0 or n == 1:\n",
    "        return 1\n",
    "    else:\n",
    "        return n * factorial(n - 1)"
   ]
  },
  {
   "attachments": {},
   "cell_type": "markdown",
   "metadata": {},
   "source": [
    "In this function, we check if the input n is either 0 or 1. If it is, we return 1 because the factorial of 0 or 1 is always 1. Otherwise, we recursively call the factorial function with n - 1 and multiply it with n. This process continues until n becomes 0 or 1, and the function starts returning the accumulated product.\n",
    "\n",
    "You can use this function by calling it with a positive integer as an argument. For example:"
   ]
  },
  {
   "cell_type": "code",
   "execution_count": 50,
   "metadata": {},
   "outputs": [
    {
     "name": "stdout",
     "output_type": "stream",
     "text": [
      "120\n"
     ]
    }
   ],
   "source": [
    "result = factorial(5)\n",
    "print(result)  # Output: 120"
   ]
  },
  {
   "attachments": {},
   "cell_type": "markdown",
   "metadata": {},
   "source": [
    "The above code calculates the factorial of 5, which is 5 * 4 * 3 * 2 * 1, resulting in 120."
   ]
  },
  {
   "attachments": {},
   "cell_type": "markdown",
   "metadata": {},
   "source": [
    "12. Implement a recursive function to compute the nth Fibonacci number"
   ]
  },
  {
   "attachments": {},
   "cell_type": "markdown",
   "metadata": {},
   "source": [
    "Ans12.Certainly! Here's an example of a recursive function in Python to compute the nth Fibonacci number:"
   ]
  },
  {
   "cell_type": "code",
   "execution_count": 51,
   "metadata": {},
   "outputs": [],
   "source": [
    "def fibonacci(n):\n",
    "    if n <= 0:\n",
    "        return None\n",
    "    elif n == 1 or n == 2:\n",
    "        return 1\n",
    "    else:\n",
    "        return fibonacci(n - 1) + fibonacci(n - 2)"
   ]
  },
  {
   "attachments": {},
   "cell_type": "markdown",
   "metadata": {},
   "source": [
    "In this implementation, the function fibonacci takes an integer n as input and recursively calculates the Fibonacci number at that position. The base cases are n = 1 and n = 2, where the Fibonacci numbers are both equal to 1. For any n greater than 2, the function recursively calls itself to calculate the Fibonacci numbers of the two preceding positions (n - 1 and n - 2), and adds them together to get the current Fibonacci number.\n",
    "\n",
    "Here's an example usage of the function:"
   ]
  },
  {
   "cell_type": "code",
   "execution_count": 52,
   "metadata": {},
   "outputs": [
    {
     "name": "stdout",
     "output_type": "stream",
     "text": [
      "The 7th Fibonacci number is: 13\n"
     ]
    }
   ],
   "source": [
    "n = 7\n",
    "result = fibonacci(n)\n",
    "print(f\"The {n}th Fibonacci number is: {result}\")"
   ]
  },
  {
   "attachments": {},
   "cell_type": "markdown",
   "metadata": {},
   "source": [
    "Output:"
   ]
  },
  {
   "cell_type": "code",
   "execution_count": null,
   "metadata": {},
   "outputs": [],
   "source": [
    "The 7th Fibonacci number is: 13"
   ]
  },
  {
   "attachments": {},
   "cell_type": "markdown",
   "metadata": {},
   "source": [
    "Please note that while this recursive approach is simple to understand, it can be inefficient for large values of n due to redundant calculations. To improve efficiency, you could use memoization or dynamic programming techniques."
   ]
  },
  {
   "attachments": {},
   "cell_type": "markdown",
   "metadata": {},
   "source": [
    "13. Create a recursive function to find the sum of all the elements in a given list."
   ]
  },
  {
   "attachments": {},
   "cell_type": "markdown",
   "metadata": {},
   "source": [
    "Ans13.Certainly! Here's an example of a recursive function in Python to find the sum of all the elements in a given list:"
   ]
  },
  {
   "cell_type": "code",
   "execution_count": 54,
   "metadata": {},
   "outputs": [
    {
     "name": "stdout",
     "output_type": "stream",
     "text": [
      "Sum of elements: 15\n"
     ]
    }
   ],
   "source": [
    "def recursive_sum(lst):\n",
    "    if len(lst) == 0:  # Base case: an empty list has a sum of 0\n",
    "        return 0\n",
    "    else:\n",
    "        return lst[0] + recursive_sum(lst[1:])  # Add the first element to the sum of the rest\n",
    "\n",
    "# Example usage\n",
    "my_list = [1, 2, 3, 4, 5]\n",
    "result = recursive_sum(my_list)\n",
    "print(\"Sum of elements:\", result)"
   ]
  },
  {
   "attachments": {},
   "cell_type": "markdown",
   "metadata": {},
   "source": [
    "When you call the recursive_sum function with a list as an argument, it checks if the list is empty. If it is, it returns 0 as the base case for an empty list. Otherwise, it adds the first element of the list to the recursive call of recursive_sum with the remaining elements of the list (lst[1:]). The function keeps making recursive calls until the list is empty, and then it starts adding the elements together, eventually returning the final sum."
   ]
  },
  {
   "attachments": {},
   "cell_type": "markdown",
   "metadata": {},
   "source": [
    "14. Write a recursive function to determine whether a given string is a palindrome."
   ]
  },
  {
   "attachments": {},
   "cell_type": "markdown",
   "metadata": {},
   "source": [
    "Ans14.Certainly! Here's an example of a recursive function in Python to determine whether a given string is a palindrome:"
   ]
  },
  {
   "cell_type": "code",
   "execution_count": 55,
   "metadata": {},
   "outputs": [],
   "source": [
    "def is_palindrome(string):\n",
    "    # Base case: if the string is empty or has only one character, it is a palindrome\n",
    "    if len(string) <= 1:\n",
    "        return True\n",
    "    \n",
    "    # Recursive case: compare the first and last characters\n",
    "    if string[0] == string[-1]:\n",
    "        # If the first and last characters are the same, recursively check the substring without those characters\n",
    "        return is_palindrome(string[1:-1])\n",
    "    else:\n",
    "        # If the first and last characters are different, it is not a palindrome\n",
    "        return False"
   ]
  },
  {
   "attachments": {},
   "cell_type": "markdown",
   "metadata": {},
   "source": [
    "You can use this function to check if a string is a palindrome by calling is_palindrome() and passing the string as an argument. Here's an example usage:"
   ]
  },
  {
   "cell_type": "code",
   "execution_count": 56,
   "metadata": {},
   "outputs": [
    {
     "name": "stdout",
     "output_type": "stream",
     "text": [
      "True\n",
      "False\n"
     ]
    }
   ],
   "source": [
    "string1 = \"radar\"\n",
    "print(is_palindrome(string1))  # Output: True\n",
    "\n",
    "string2 = \"hello\"\n",
    "print(is_palindrome(string2))  # Output: False"
   ]
  },
  {
   "attachments": {},
   "cell_type": "markdown",
   "metadata": {},
   "source": [
    "The function recursively compares the first and last characters of the string. If they are equal, it calls itself again with the substring obtained by removing the first and last characters. This process continues until the string becomes empty or contains only one character. If all the pairs of characters are equal, the function returns True, indicating that the string is a palindrome. If at any point the characters don't match, the function returns False."
   ]
  },
  {
   "attachments": {},
   "cell_type": "markdown",
   "metadata": {},
   "source": [
    "15. Implement a recursive function to find the greatest common divisor (GCD) of two positive integers."
   ]
  },
  {
   "attachments": {},
   "cell_type": "markdown",
   "metadata": {},
   "source": [
    "Ans15.Certainly! Here's an implementation of a recursive function to find the greatest common divisor (GCD) of two positive integers using the Euclidean algorithm:"
   ]
  },
  {
   "cell_type": "code",
   "execution_count": 57,
   "metadata": {},
   "outputs": [],
   "source": [
    "def gcd_recursive(a, b):\n",
    "    if b == 0:\n",
    "        return a\n",
    "    else:\n",
    "        return gcd_recursive(b, a % b)"
   ]
  },
  {
   "attachments": {},
   "cell_type": "markdown",
   "metadata": {},
   "source": [
    "This recursive function takes two positive integers, a and b, as input. It repeatedly applies the Euclidean algorithm by dividing a by b and replacing a with b and b with the remainder until the remainder becomes 0. At this point, the function returns a, which will be the GCD of the original a and b.\n",
    "\n",
    "You can use this function as follows:"
   ]
  },
  {
   "cell_type": "code",
   "execution_count": 58,
   "metadata": {},
   "outputs": [
    {
     "name": "stdout",
     "output_type": "stream",
     "text": [
      "The GCD of 36 and 48 is: 12\n"
     ]
    }
   ],
   "source": [
    "# Example usage\n",
    "num1 = 36\n",
    "num2 = 48\n",
    "result = gcd_recursive(num1, num2)\n",
    "print(f\"The GCD of {num1} and {num2} is: {result}\")"
   ]
  },
  {
   "attachments": {},
   "cell_type": "markdown",
   "metadata": {},
   "source": [
    "This will output:"
   ]
  },
  {
   "cell_type": "code",
   "execution_count": null,
   "metadata": {},
   "outputs": [],
   "source": [
    "The GCD of 36 and 48 is: 12"
   ]
  },
  {
   "attachments": {},
   "cell_type": "markdown",
   "metadata": {},
   "source": [
    "Note: Make sure to provide positive integers as input to the function, as it does not handle negative numbers or zero."
   ]
  }
 ],
 "metadata": {
  "kernelspec": {
   "display_name": "Python 3",
   "language": "python",
   "name": "python3"
  },
  "language_info": {
   "codemirror_mode": {
    "name": "ipython",
    "version": 3
   },
   "file_extension": ".py",
   "mimetype": "text/x-python",
   "name": "python",
   "nbconvert_exporter": "python",
   "pygments_lexer": "ipython3",
   "version": "3.11.3"
  },
  "orig_nbformat": 4
 },
 "nbformat": 4,
 "nbformat_minor": 2
}
